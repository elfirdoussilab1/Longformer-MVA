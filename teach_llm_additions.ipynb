{
  "cells": [
    {
      "cell_type": "markdown",
      "id": "80517dbc",
      "metadata": {
        "id": "80517dbc"
      },
      "source": [
        "# Teach an LLM to do additions"
      ]
    },
    {
      "cell_type": "markdown",
      "id": "0aaca18f",
      "metadata": {
        "id": "0aaca18f"
      },
      "source": [
        "The goal of this project is to teach an LLM to do additions, playing only with two parts:\n",
        "* the tokenizer\n",
        "* the positional embedding\n",
        "\n",
        "Both the model and the dataset are fixed.\n",
        "\n",
        "You are allowed to tune the hyperparameters, but this is not the main goal. Depending on the quality of your tokenizer and positional embedding, you may change the number of bits. The initial value of 3 is very small."
      ]
    },
    {
      "cell_type": "code",
      "execution_count": 1,
      "id": "ae993bb9",
      "metadata": {
        "id": "ae993bb9"
      },
      "outputs": [],
      "source": [
        "import torch\n",
        "from torch import nn\n",
        "from torch.nn import functional as F\n",
        "\n",
        "import random\n",
        "import math\n",
        "import re\n",
        "import time"
      ]
    },
    {
      "cell_type": "code",
      "execution_count": 2,
      "id": "OzGh9ahKF17h",
      "metadata": {
        "id": "OzGh9ahKF17h"
      },
      "outputs": [],
      "source": [
        "number_bits = 2\n",
        "\n",
        "dataset_size = 64_000\n",
        "train_proportion = 0.9\n",
        "\n",
        "log_interval = 200\n",
        "batch_size = 64\n",
        "epochs = 4\n",
        "learning_rate = 8e-4\n",
        "\n",
        "eval_debug = False"
      ]
    },
    {
      "cell_type": "markdown",
      "id": "6c054bed",
      "metadata": {
        "id": "6c054bed"
      },
      "source": [
        "## Step 1: Construct a tokenizer"
      ]
    },
    {
      "cell_type": "code",
      "execution_count": 3,
      "id": "t6aC9uNeIR6C",
      "metadata": {
        "id": "t6aC9uNeIR6C"
      },
      "outputs": [],
      "source": [
        "pad_token=\"[PAD]\"\n",
        "eos_token=\"[EOS]\""
      ]
    },
    {
      "cell_type": "markdown",
      "id": "BMvT0B-MGBnY",
      "metadata": {
        "id": "BMvT0B-MGBnY"
      },
      "source": [
        "### Baseline: character-level tokenizer"
      ]
    },
    {
      "cell_type": "code",
      "execution_count": 4,
      "id": "g2QiF-otFur3",
      "metadata": {
        "id": "g2QiF-otFur3"
      },
      "outputs": [],
      "source": [
        "class character_level_tokenizer:\n",
        "    \"\"\"\n",
        "    character-level\n",
        "    \"\"\"\n",
        "    def __init__(self):\n",
        "        self.vocab = [str(x) for x in range(10)] + [\"+\", \"=\"] + [pad_token, eos_token]\n",
        "        self.token_to_id = {v : k for k, v in enumerate(self.vocab)}\n",
        "        self.id_to_token = {k : v for k, v in enumerate(self.vocab)}\n",
        "        self.ntokens = len(self.vocab)\n",
        "        self.pattern = f\"[^{re.escape(''.join(self.vocab))}]\"\n",
        "\n",
        "    def clean(self, text):\n",
        "        \"\"\"\n",
        "        removes all characters not in the vocabulary\n",
        "        \"\"\"\n",
        "        out = re.sub(self.pattern, \"\", text)\n",
        "        return out\n",
        "\n",
        "    def pre_tokenization(self, text):\n",
        "        \"\"\"\n",
        "        character-level\n",
        "        \"\"\"\n",
        "        return [c for c in text]\n",
        "\n",
        "    def encode(self, text):\n",
        "        text_list = self.pre_tokenization(self.clean(text))\n",
        "        return [self.token_to_id[c] for c in text_list]\n",
        "\n",
        "    def decode(self, token_list):\n",
        "        return \"\".join([self.id_to_token[x] for x in token_list])"
      ]
    },
    {
      "cell_type": "markdown",
      "id": "j3gckvebGGYt",
      "metadata": {
        "id": "j3gckvebGGYt"
      },
      "source": [
        "# Implement your tokenizer here!\n",
        "\n",
        "You can do anything (as long as you do not compute the addition!).\n",
        "Some ideas:\n",
        "* reversing numbers left to right\n",
        "* arranging by groups (of, 2, 3,...)\n",
        "* aligning numbers"
      ]
    },
    {
      "cell_type": "code",
      "execution_count": 5,
      "id": "X080MghX4scF",
      "metadata": {
        "id": "X080MghX4scF"
      },
      "outputs": [],
      "source": [
        "class sum_tokenizer:\n",
        "    \"\"\"\n",
        "    xyz + ab = cde is pre-encoded as (z+b)(y+a)(x+0)=edc to help the LLM learn how to add numbers (in a more sequencial way as we do it)\n",
        "    We see that there is a strong pattern each 5 positions, we will explore this in the positional embedding\n",
        "    \"\"\"\n",
        "    def __init__(self):\n",
        "        self.vocab = [str(x) for x in range(10)] + [\"+\", \"=\", \"(\", \")\"] + [pad_token, eos_token]\n",
        "        self.token_to_id = {v : k for k, v in enumerate(self.vocab)}\n",
        "        self.id_to_token = {k : v for k, v in enumerate(self.vocab)}\n",
        "        self.ntokens = len(self.vocab)\n",
        "        self.pattern = f\"[^{re.escape(''.join(self.vocab))}]\"\n",
        "\n",
        "\n",
        "    def clean(self, text):\n",
        "        \"\"\"\n",
        "        removes all characters not expected in the LLM tokens (vocab)\n",
        "        \"\"\"\n",
        "        out = re.sub(self.pattern, \"\", text)\n",
        "        return out\n",
        "\n",
        "\n",
        "    def clean_number(self, text):\n",
        "        \"\"\"\n",
        "        removes all non-numeric characters\n",
        "        \"\"\"\n",
        "        pattern_number = [str(x) for x in range(10)]\n",
        "        pattern_number = f\"[^{re.escape(''.join(pattern_number))}]\"\n",
        "        out = re.sub(pattern_number, \"\", text)\n",
        "        return out\n",
        "\n",
        "    def pre_tokenization(self, text):\n",
        "        if (eval_debug):\n",
        "            print(\"pretoken from:\", text)\n",
        "\n",
        "        # input (from 'xyz + ab = cde' to '(z+b)(y+a)(x+0)=edc')\n",
        "        if \"+\" in text:\n",
        "            n_1, n_2 = text.split('+', 1)\n",
        "            n_2, result = n_2.split('=', 1)\n",
        "\n",
        "            # make the same size adding left zeros\n",
        "            while len(n_1) != len(n_2):\n",
        "                if len(n_1) > len(n_2):\n",
        "                    n_2 = \"0\" + n_2\n",
        "                else:\n",
        "                    n_1 = \"0\" + n_1\n",
        "\n",
        "            # write in the good format\n",
        "            n_1 = list(n_1[::-1])\n",
        "            n_2 = list(n_2[::-1])\n",
        "            text = \"\"\n",
        "            for i in range(0, len(n_1)):\n",
        "                text += \"(\" + n_1[i] + \"+\" + n_2[i] + \")\"\n",
        "            text = text + \"=\"\n",
        "            text = text + result[::-1]\n",
        "\n",
        "        # output (only revert from 'cde' to 'edc')\n",
        "        else:\n",
        "            text = text[::-1]\n",
        "\n",
        "        if (eval_debug):\n",
        "            print(\"pretoken to:\", text)\n",
        "\n",
        "        return [c for c in text]\n",
        "\n",
        "    def encode(self, text):\n",
        "        text_list = self.pre_tokenization(self.clean(text))\n",
        "        return [self.token_to_id[c] for c in text_list]\n",
        "\n",
        "    def decode(self, token_list):\n",
        "        text = \"\".join([self.id_to_token[x] if self.id_to_token[x] not in [pad_token, eos_token] else \"\" for x in token_list])\n",
        "\n",
        "        if (eval_debug):\n",
        "            print(\"decoded from:\", text)\n",
        "\n",
        "        # outputs (only undo reversion)\n",
        "        if \"=\" not in text:\n",
        "            if (eval_debug):\n",
        "                print(\"decoded to:\", text[::-1])\n",
        "            return text[::-1]\n",
        "\n",
        "        # inputs (from 'zb,ya,x0=' to 'xyz+ab=')\n",
        "        text, result = text.split(\"=\", 1)\n",
        "        text = list(text)\n",
        "        n_1 = \"\"\n",
        "        n_2 = \"\"\n",
        "        for i in range(len(text)):\n",
        "            if text[i] == \"(\":\n",
        "              n_1 = n_1 + text[i+1]\n",
        "              n_2 = n_2 + text[i+3]\n",
        "        n_1 = n_1[::-1]\n",
        "        n_2 = n_2[::-1]\n",
        "        n_1 = str(int(n_1))\n",
        "        n_2 = str(int(n_2))\n",
        "\n",
        "        if (eval_debug):\n",
        "            print(\"decoded to:\", n_1 + \"+\" + n_2 + \"=\" + result[::-1])\n",
        "\n",
        "        return n_1 + \"+\" + n_2 + \"=\" + result[::-1]"
      ]
    },
    {
      "cell_type": "code",
      "execution_count": 6,
      "id": "QuCc6jF5F8hK",
      "metadata": {
        "colab": {
          "base_uri": "https://localhost:8080/"
        },
        "id": "QuCc6jF5F8hK",
        "outputId": "673ab399-44f7-447a-daaf-d79d75e7a08c"
      },
      "outputs": [
        {
          "data": {
            "text/plain": [
              "16"
            ]
          },
          "execution_count": 6,
          "metadata": {},
          "output_type": "execute_result"
        }
      ],
      "source": [
        "tokenizer = sum_tokenizer()\n",
        "ntokens = tokenizer.ntokens\n",
        "ntokens"
      ]
    },
    {
      "cell_type": "code",
      "execution_count": 7,
      "id": "8FXW2K-1Jd-P",
      "metadata": {
        "colab": {
          "base_uri": "https://localhost:8080/"
        },
        "id": "8FXW2K-1Jd-P",
        "outputId": "879ad28a-4669-40a4-ccc3-9f3490763edd"
      },
      "outputs": [
        {
          "name": "stdout",
          "output_type": "stream",
          "text": [
            "pretoken from: 14+6=20\n",
            "pretoken to: (4+6)(1+0)=02\n",
            "decoded from: (4+6)(1+0)=02\n",
            "decoded to: 14+6=20\n"
          ]
        },
        {
          "data": {
            "text/plain": [
              "([12, 4, 10, 6, 13, 12, 1, 10, 0, 13, 11, 0, 2], '14+6=20')"
            ]
          },
          "execution_count": 7,
          "metadata": {},
          "output_type": "execute_result"
        }
      ],
      "source": [
        "eval_debug = True\n",
        "prompt = \"14+6=20\"\n",
        "inputs = tokenizer.encode(prompt)\n",
        "inputs, tokenizer.decode(inputs)\n",
        "\n",
        "# for elem in data[:5]:\n",
        "#     print(\"\\n\", elem[0])\n",
        "#     prompt = elem[0]\n",
        "#     inputs = tokenizer.encode(prompt)\n",
        "#     inputs, tokenizer.decode(inputs)\n",
        "#     print(\"\\n\", elem[1])\n",
        "#     prompt = elem[1]\n",
        "#     inputs = tokenizer.encode(prompt)\n",
        "#     inputs, tokenizer.decode(inputs)\n",
        "#     print(\"\\n\", elem)"
      ]
    },
    {
      "cell_type": "markdown",
      "id": "491af297",
      "metadata": {
        "id": "491af297"
      },
      "source": [
        "## Step 2: Create a dataset for arithmetic operations"
      ]
    },
    {
      "cell_type": "code",
      "execution_count": 8,
      "id": "daa90f31",
      "metadata": {
        "colab": {
          "base_uri": "https://localhost:8080/"
        },
        "id": "daa90f31",
        "outputId": "7ab71394-f305-4736-d1fa-469ea18177d8"
      },
      "outputs": [
        {
          "data": {
            "text/plain": [
              "('401+347=', '748')"
            ]
          },
          "execution_count": 8,
          "metadata": {},
          "output_type": "execute_result"
        }
      ],
      "source": [
        "def sample_datapoint(number_bits = 3):\n",
        "    \"\"\"\n",
        "    returns a string containing two random numbers on `number_bits` many bits and their sum.\n",
        "    \"\"\"\n",
        "    a_list = [random.randint(0, 9) for _ in range(number_bits)]\n",
        "    b_list = [random.randint(0, 9) for _ in range(number_bits)]\n",
        "    a_int = int(\"\".join([str(x) for x in a_list]))\n",
        "    b_int = int(\"\".join([str(x) for x in b_list]))\n",
        "    sum_int = a_int + b_int\n",
        "    return (str(a_int) + \"+\" + str(b_int) + \"=\", str(sum_int))\n",
        "\n",
        "sample_datapoint(3)"
      ]
    },
    {
      "cell_type": "code",
      "execution_count": 9,
      "id": "b6e861d2",
      "metadata": {
        "colab": {
          "base_uri": "https://localhost:8080/"
        },
        "id": "b6e861d2",
        "outputId": "6079c012-c73c-480e-9094-8a58225d06ba"
      },
      "outputs": [
        {
          "data": {
            "text/plain": [
              "[('9+61=', '70'), ('38+35=', '73'), ('51+11=', '62'), ('41+24=', '65')]"
            ]
          },
          "execution_count": 9,
          "metadata": {},
          "output_type": "execute_result"
        }
      ],
      "source": [
        "data = []\n",
        "for _ in range(dataset_size):\n",
        "    data.append(sample_datapoint(number_bits))\n",
        "data[:4]"
      ]
    },
    {
      "cell_type": "code",
      "execution_count": 10,
      "id": "fee85050",
      "metadata": {
        "colab": {
          "base_uri": "https://localhost:8080/"
        },
        "id": "fee85050",
        "outputId": "15d82958-8cae-48e7-8d3e-df19231f439c"
      },
      "outputs": [
        {
          "data": {
            "text/plain": [
              "(57600, 6400)"
            ]
          },
          "execution_count": 10,
          "metadata": {},
          "output_type": "execute_result"
        }
      ],
      "source": [
        "data_train = data[: int(train_proportion * dataset_size)]\n",
        "data_test = data[int(train_proportion * dataset_size):]\n",
        "\n",
        "len(data_train),len(data_test)"
      ]
    },
    {
      "cell_type": "markdown",
      "id": "37200598",
      "metadata": {
        "id": "37200598"
      },
      "source": [
        "## Step 3: Construct a model"
      ]
    },
    {
      "cell_type": "markdown",
      "id": "0fd7d2eb",
      "metadata": {
        "id": "0fd7d2eb"
      },
      "source": [
        "### Basline: the classical Positional Embedding"
      ]
    },
    {
      "cell_type": "code",
      "execution_count": 11,
      "id": "36iVhO9qNU5M",
      "metadata": {
        "id": "36iVhO9qNU5M"
      },
      "outputs": [],
      "source": [
        "# class PositionalEmbedding(nn.Module):\n",
        "#     r\"\"\"Inject some information about the relative or absolute position of the tokens in the sequence.\n",
        "#         The positional encodings have the same dimension as the embeddings, so that the two can be summed.\n",
        "#         Here, we use sine and cosine functions of different frequencies.\n",
        "#     .. math:\n",
        "#         \\text{PosEmbedder}(pos, 2i) = sin(pos/10000^(2i/d_model))\n",
        "#         \\text{PosEmbedder}(pos, 2i+1) = cos(pos/10000^(2i/d_model))\n",
        "#         \\text{where pos is the word position and i is the embed idx)\n",
        "#     Args:\n",
        "#         d_model: the embed dim (required).\n",
        "#         dropout: the dropout value (default=0.1).\n",
        "#         max_len: the max. length of the incoming sequence (default=5000).\n",
        "#     \"\"\"\n",
        "\n",
        "#     def __init__(self, d_model, dropout=0.1, max_len=5000):\n",
        "#         super(PositionalEmbedding, self).__init__()\n",
        "#         self.dropout = nn.Dropout(p=dropout)\n",
        "\n",
        "#         pe = torch.zeros(max_len, d_model)\n",
        "#         position = torch.arange(0, max_len, dtype=torch.float).unsqueeze(1)\n",
        "#         div_term = torch.exp(torch.arange(0, d_model, 2).float() * (-math.log(10000.0) / d_model))\n",
        "#         pe[:, 0::2] = torch.sin(position * div_term)\n",
        "#         pe[:, 1::2] = torch.cos(position * div_term)\n",
        "#         pe = pe.unsqueeze(0).transpose(0, 1)\n",
        "#         self.register_buffer('pe', pe)\n",
        "\n",
        "#     def forward(self, x):\n",
        "#         r\"\"\"Inputs of forward function\n",
        "#         Args:\n",
        "#             x: the sequence fed to the positional encoder model (required).\n",
        "#         Shape:\n",
        "#             x: [sequence length, batch size, embed dim]\n",
        "#             output: [sequence length, batch size, embed dim]\n",
        "#         \"\"\"\n",
        "\n",
        "#         x = x + self.pe[:x.size(0), :]\n",
        "#         return self.dropout(x)\n",
        "    \n",
        "\n",
        "# Because we group each pair of digits of the same significance next to each other, \n",
        "# then a good positional encoding could be to give each pair the same positional encoding!\n",
        "\n",
        "class PositionalEncoding(nn.Module):\n",
        "\n",
        "    def __init__(self, d_model, dropout=0.1, repeats = 50, number_bits = 3):\n",
        "        # Create a positional embedding that is periodic in the number of bits used to represent numbers!\n",
        "        # numbers should be consecutive with no double + or double so that this encoding works (i.e clear and clean prompts!)\n",
        "        super(PositionalEncoding, self).__init__()\n",
        "        self.dropout = nn.Dropout(p=dropout)\n",
        "        self.number_bits = number_bits\n",
        "        position = torch.arange(repeats, dtype= torch.float).repeat_interleave(2).unsqueeze(1) # each position is repeated 2 times: [0,0, 1, 1, 2, 2,...]\n",
        "\n",
        "        # Positional encodings\n",
        "        pe = torch.zeros(position.size(0), d_model)\n",
        "        div_term = torch.exp(torch.arange(0, d_model, 2).float() * (-math.log(10000.0) / d_model))\n",
        "        pe[:, 0::2] = torch.sin(position * div_term)\n",
        "        pe[:, 1::2] = torch.cos(position * div_term)\n",
        "        pe = pe.unsqueeze(1) # shape (2 * repeats, 1, d_model)\n",
        "        self.register_buffer('pe', pe)\n",
        "\n",
        "    def forward(self, x):\n",
        "        r\"\"\"Inputs of forward function\n",
        "        Args:\n",
        "            x: the sequence fed to the positional encoder model (required).\n",
        "        Shape:\n",
        "            x: [sequence length, batch size, embed dim]\n",
        "            output: [sequence length, batch size, embed dim]\n",
        "        \"\"\"\n",
        "        x = x + self.pe[:x.size(0), :]\n",
        "        return self.dropout(x)"
      ]
    },
    {
      "cell_type": "markdown",
      "id": "8296ceb2",
      "metadata": {
        "id": "8296ceb2"
      },
      "source": [
        "# Implement your positional embedding here!\n"
      ]
    },
    {
      "cell_type": "markdown",
      "id": "0194bbd1",
      "metadata": {},
      "source": [
        "\n",
        "Our input is extremely periodic, with period 5:\n",
        "\n",
        "'xyz + ab = ' is encoded to '(z+b)(z+a)(x+0)='\n",
        "\n",
        "Here I implemented a periodic positional embedding as a sum of decaying sinus funcitons of periods multiple of 5.\n",
        "\n",
        "$pe(dim\\_even) = \\sin(\\frac{2π*pos}{5}) + \\frac{1}{\\sqrt{2}}*\\sin(\\frac{2π*pos}{10}) + \\frac{1}{\\sqrt{3}}*\\sin(\\frac{2π*pos}{20}) + ...$\n",
        "\n",
        "$pe(dim\\_odd) = \\cos(\\frac{2π*pos}{5}) + \\frac{1}{\\sqrt{2}}*\\cos(\\frac{2π*pos}{10}) + \\frac{1}{\\sqrt{3}}*\\cos(\\frac{2π*pos}{20}) + ...$\n",
        "\n",
        "Then, I normalize to ensure it is not too large, using $norm = 1 + (1/2) + (1/3) + ...$\n",
        "\n",
        "This is a good encoding for the case for small number of bits, but it struggles with bigger numbers, due to the dilution (1/n) of bigger periods, making it harder to understand long distance dependency.\n",
        "\n",
        "I have try other positional encodings but I also struggled with being able to increase n_bits. :/"
      ]
    },
    {
      "cell_type": "code",
      "execution_count": 12,
      "id": "Zz_kr7L4CwPs",
      "metadata": {
        "id": "Zz_kr7L4CwPs"
      },
      "outputs": [],
      "source": [
        "class PeriodicPositionalEmbedding(nn.Module):\n",
        "    r\"\"\"Positional encodings with a fixed periodicity of 5: '(.+.)(.+.)(.+.)=...'\n",
        "        This version explicitly models periodicity based on given periods multiple of 5 (e.g., 5, 10, 20).\n",
        "\n",
        "        Args:\n",
        "            d_model: the embedding dimension\n",
        "            max_len: maximum sequence length\n",
        "    \"\"\"\n",
        "\n",
        "    def __init__(self, d_model, dropout=0.1, max_len=5000):\n",
        "        super(PeriodicPositionalEmbedding, self).__init__()\n",
        "        self.periods = [5, 10, 20]\n",
        "\n",
        "        pe = torch.zeros(max_len, d_model)\n",
        "        position = torch.arange(0, max_len, dtype=torch.float).unsqueeze(1) # (max_len, 1)\n",
        "\n",
        "        # periodic encoding (periods multiple of 5 from the structure \"(.,.)(.,.)(.,.)=...\")\n",
        "        norm = 0\n",
        "        for i in range(len(self.periods)):\n",
        "            omega = 2 * math.pi * position / self.periods[i]\n",
        "            pe[:, 0::2] += torch.sin(position * omega) / ((i+1)**0.5)\n",
        "            pe[:, 1::2] += torch.cos(position * omega) / ((i+1)**0.5)\n",
        "            norm += 1 / (i+1)\n",
        "        pe /= norm\n",
        "\n",
        "        pe = pe.unsqueeze(0).transpose(0, 1)\n",
        "        self.register_buffer('pe', pe)\n",
        "\n",
        "    def forward(self, x):\n",
        "        r\"\"\"Inputs:\n",
        "            x: the sequence add to the positional encodding of shape [sequence length, batch size, embed dim]\n",
        "        Outputs:\n",
        "            output: [sequence length, batch size, embed dim]\n",
        "        \"\"\"\n",
        "\n",
        "        return (x + self.pe[:x.size(0), :, :]).to(x.device)  # Match input sequence length\n"
      ]
    },
    {
      "cell_type": "code",
      "execution_count": 13,
      "id": "XidcSv8ZvS2x",
      "metadata": {
        "id": "XidcSv8ZvS2x"
      },
      "outputs": [],
      "source": [
        "# Visualize the Positional Embeddings\n",
        "import matplotlib.pyplot as plt\n",
        "import seaborn as sns\n",
        "\n",
        "embed_dim = 16\n",
        "pos_enc = PeriodicPositionalEmbedding(d_model=embed_dim)\n",
        "\n",
        "pe_values = pos_enc.pe[:20, 0, :].detach().cpu().numpy()\n"
      ]
    },
    {
      "cell_type": "code",
      "execution_count": 14,
      "id": "kkQM3Osqx6qv",
      "metadata": {
        "colab": {
          "base_uri": "https://localhost:8080/",
          "height": 564
        },
        "id": "kkQM3Osqx6qv",
        "outputId": "0d7e02ac-5aa5-4e6f-dbf8-f0a0b401332a"
      },
      "outputs": [
        {
          "data": {
            "image/png": "[encoded data removed]",
            "text/plain": [
              "<Figure size 1200x600 with 2 Axes>"
            ]
          },
          "metadata": {},
          "output_type": "display_data"
        }
      ],
      "source": [
        "# Create a heatmap for the positional encodings\n",
        "plt.figure(figsize=(12, 6))\n",
        "sns.heatmap(pe_values, cmap=\"coolwarm\", cbar=True, xticklabels=5, yticklabels=5)\n",
        "\n",
        "plt.xlabel(\"Embedding Dimension\")\n",
        "plt.ylabel(\"Position\")\n",
        "plt.title(\"Periodic Positional Encoding\")\n",
        "plt.show()"
      ]
    },
    {
      "cell_type": "markdown",
      "id": "a98707ce",
      "metadata": {},
      "source": [
        "# Transformer and Longformer"
      ]
    },
    {
      "cell_type": "code",
      "execution_count": 15,
      "id": "4eb278ab",
      "metadata": {
        "id": "4eb278ab"
      },
      "outputs": [],
      "source": [
        "class TransformerModel(nn.Transformer):\n",
        "    def __init__(self, ntoken, ninp, nhead, nhid, nlayers, dropout=0.5):\n",
        "        super(TransformerModel, self).__init__(d_model=ninp,\n",
        "                                               nhead=nhead,\n",
        "                                               dim_feedforward=nhid,\n",
        "                                               num_encoder_layers=nlayers)\n",
        "        self.input_emb = nn.Embedding(ntoken, ninp)\n",
        "        self.pos_encoder = PeriodicPositionalEmbedding(ninp, dropout)\n",
        "        self.decoder = nn.Linear(ninp, ntoken)\n",
        "\n",
        "        self.ninp = ninp\n",
        "        self.init_weights()\n",
        "\n",
        "    def init_weights(self):\n",
        "        initrange = 0.1\n",
        "        nn.init.uniform_(self.input_emb.weight, -initrange, initrange)\n",
        "        nn.init.zeros_(self.decoder.bias)\n",
        "        nn.init.uniform_(self.decoder.weight, -initrange, initrange)\n",
        "\n",
        "    def _generate_square_subsequent_mask(self, sz):\n",
        "        return torch.log(torch.tril(torch.ones(sz,sz)))\n",
        "\n",
        "    def forward(self, src):\n",
        "        mask = self._generate_square_subsequent_mask(len(src)).to(device)\n",
        "        self.src_mask = mask\n",
        "        print(\"src.shape\", src.shape)\n",
        "\n",
        "        src = self.input_emb(src) * math.sqrt(self.ninp)\n",
        "        print(\"input_emb.shape\", src.shape)\n",
        "        src = self.pos_encoder(src)\n",
        "        print(\"pos_encoder.shape\", src.shape)\n",
        "        output_enc = self.encoder(src, mask=self.src_mask)\n",
        "        print(\"encoder.shape\", output_enc.shape)\n",
        "        output_dec = self.decoder(output_enc)\n",
        "        print(\"decoder.shape\", output_dec.shape)\n",
        "        return F.log_softmax(output_dec, dim=-1), output_enc"
      ]
    },
    {
      "cell_type": "code",
      "execution_count": 16,
      "id": "42f9d1ee",
      "metadata": {
        "colab": {
          "base_uri": "https://localhost:8080/"
        },
        "id": "42f9d1ee",
        "outputId": "2727218b-8c95-4bc0-dafd-2ebdc91bb515"
      },
      "outputs": [
        {
          "name": "stdout",
          "output_type": "stream",
          "text": [
            "cpu\n"
          ]
        }
      ],
      "source": [
        "device = torch.device(\"cuda\" if torch.cuda.is_available() else \"cpu\")\n",
        "print(device)"
      ]
    },
    {
      "cell_type": "code",
      "execution_count": 17,
      "id": "33c4fa17",
      "metadata": {},
      "outputs": [
        {
          "data": {
            "text/plain": [
              "Transformer(\n",
              "  (embedding): Embedding(16, 128)\n",
              "  (position_embedding): PeriodicPositionalEmbedding()\n",
              "  (layers): ModuleList(\n",
              "    (0-7): 8 x TransformerBlock(\n",
              "      (attention): MultiHeadSelfAttention(\n",
              "        (matrix_Q): Linear(in_features=128, out_features=512, bias=True)\n",
              "        (matrix_K): Linear(in_features=128, out_features=512, bias=True)\n",
              "        (matrix_V): Linear(in_features=128, out_features=512, bias=True)\n",
              "        (linear_out): Linear(in_features=512, out_features=128, bias=True)\n",
              "      )\n",
              "      (norm1): LayerNorm((128,), eps=1e-05, elementwise_affine=True)\n",
              "      (norm2): LayerNorm((128,), eps=1e-05, elementwise_affine=True)\n",
              "      (ffn): Sequential(\n",
              "        (0): Linear(in_features=128, out_features=128, bias=True)\n",
              "        (1): ReLU()\n",
              "        (2): Linear(in_features=128, out_features=128, bias=True)\n",
              "      )\n",
              "    )\n",
              "  )\n",
              "  (fc): Linear(in_features=128, out_features=16, bias=True)\n",
              ")"
            ]
          },
          "execution_count": 17,
          "metadata": {},
          "output_type": "execute_result"
        }
      ],
      "source": [
        "from transformers_from_scratch import Longformer, Transformer\n",
        "\n",
        "vocab_size = ntokens\n",
        "embed_dim = 128\n",
        "num_heads = 8\n",
        "ffn_dim = 128 \n",
        "num_layers = 8\n",
        "max_len = 128\n",
        "dim_head = 64\n",
        "dim_value = 64\n",
        "dim_query = 64\n",
        "\n",
        "window_size = 3\n",
        "dilation=1\n",
        "\n",
        "\n",
        "transformer = Transformer(vocab_size, embed_dim, num_heads, ffn_dim, num_layers, max_len, V_dim=dim_value, Q_dim=dim_query, positional_embedding=PeriodicPositionalEmbedding)\n",
        "# longformer = Longformer(vocab_size, embed_dim, num_heads, ffn_dim, num_layers, max_len, V_dim=dim_value, Q_dim=dim_query, window_size=window_size, dilation=dilation,positional_embedding=PeriodicPositionalEmbedding) \n",
        "\n",
        "transformer.to(device)\n",
        "# longformer.to(device)\n"
      ]
    },
    {
      "cell_type": "code",
      "execution_count": 18,
      "id": "1d568cc4",
      "metadata": {
        "colab": {
          "base_uri": "https://localhost:8080/"
        },
        "id": "1d568cc4",
        "outputId": "300bfdab-59da-4019-ff06-6126c8c5c64c"
      },
      "outputs": [],
      "source": [
        "# model = TransformerModel(ntoken = ntokens,\n",
        "#                          ninp = 128,\n",
        "#                          nhead = 16,\n",
        "#                          nhid = 64,\n",
        "#                          nlayers = 8)\n",
        "# model.to(device)"
      ]
    },
    {
      "cell_type": "code",
      "execution_count": 19,
      "id": "8f2f06e0",
      "metadata": {
        "id": "8f2f06e0"
      },
      "outputs": [],
      "source": [
        "# def generate(model, prompts, new_tokens = 5):\n",
        "#     input_tensor = prompts # (length_prompts, batch_size)\n",
        "#     input_tensor = input_tensor.to(device)\n",
        "#     for _ in range(new_tokens):\n",
        "#         # print(input_tensor.shape)\n",
        "#         output = model(input_tensor) # (length_prompts, batch_size, ntokens)\n",
        "#         # print(\"output\", output.shape, output)\n",
        "#         # breakpoint()\n",
        "#         last_output = output[-1,:,:] # (batch_size, ntokens)\n",
        "#         token = torch.argmax(last_output, -1).view((1,-1)) # (1, batch_size)\n",
        "#         input_tensor = torch.cat((input_tensor, token), 0)\n",
        "#     return input_tensor\n",
        "\n",
        "def generate(model, prompts, new_tokens = 5):\n",
        "    input_tensor = prompts # (length_prompts, batch_size)\n",
        "    input_tensor = input_tensor.to(device)\n",
        "    input_tensor = input_tensor.permute(1,0) # (batch_size, length_prompts)\n",
        "    for _ in range(new_tokens):\n",
        "        # print(\"input\", input_tensor.shape)\n",
        "        output = model(input_tensor) # (batch_size, length_prompts, ntokens)\n",
        "        # print(\"output\", output.shape)\n",
        "        last_output = output[:, -1,:] # (batch_size, ntokens)\n",
        "        token = torch.argmax(last_output, -1).view((-1,1)) # (batch_size, 1)\n",
        "        # print(\"token\", token.shape)\n",
        "        input_tensor = torch.cat((input_tensor, token), 1) # (batch_size, length_prompts + 1)\n",
        "    return input_tensor.permute(1,0) # (length_prompts + new_tokens, batch_size)"
      ]
    },
    {
      "cell_type": "code",
      "execution_count": 20,
      "id": "de5ea2db",
      "metadata": {},
      "outputs": [
        {
          "name": "stdout",
          "output_type": "stream",
          "text": [
            "torch.Size([20, 64])\n",
            "torch.Size([25, 64])\n"
          ]
        }
      ],
      "source": [
        "model = transformer\n",
        "model.eval()\n",
        "\n",
        "batch_size=64\n",
        "seq_len = 20\n",
        "sample_input = torch.randint(0, vocab_size, (seq_len, batch_size)).to(device)\n",
        "output = generate(model, sample_input)\n",
        "print(sample_input.shape)\n",
        "print(output.shape)"
      ]
    },
    {
      "cell_type": "code",
      "execution_count": 21,
      "id": "d76d1b19",
      "metadata": {
        "colab": {
          "base_uri": "https://localhost:8080/"
        },
        "id": "d76d1b19",
        "outputId": "84496b56-1266-400a-cc39-ed7fff38bc73"
      },
      "outputs": [
        {
          "name": "stdout",
          "output_type": "stream",
          "text": [
            "pretoken from: 2+3=\n",
            "pretoken to: (2+3)=\n",
            "decoded from: (2+3)=6=6=6\n",
            "decoded to: 2+3=6=6=6\n"
          ]
        },
        {
          "data": {
            "text/plain": [
              "(tensor([[12,  2, 10,  3, 13, 11,  6, 11,  6, 11,  6]]), '2+3=6=6=6')"
            ]
          },
          "execution_count": 21,
          "metadata": {},
          "output_type": "execute_result"
        }
      ],
      "source": [
        "prompt = \"2+3=\"\n",
        "prompt_tensor = torch.tensor(tokenizer.encode(prompt)).view((-1,1))\n",
        "output = generate(model, prompt_tensor).view((1,-1))\n",
        "output, tokenizer.decode(output.tolist()[0])"
      ]
    },
    {
      "cell_type": "code",
      "execution_count": 22,
      "id": "00954ddc",
      "metadata": {
        "id": "00954ddc"
      },
      "outputs": [],
      "source": [
        "def pad(token_list, type_list = \"prompts\"):\n",
        "    max_length = max([len(x) for x in token_list])\n",
        "    out = []\n",
        "    for x in token_list:\n",
        "        if type_list == \"prompts\":\n",
        "            out.append([tokenizer.token_to_id[pad_token]] * (max_length - len(x)) + x)\n",
        "        if type_list == \"answers\":\n",
        "            out.append(x + [tokenizer.token_to_id[eos_token]] + [tokenizer.token_to_id[pad_token]] * (max_length - len(x)))\n",
        "    return out, max_length"
      ]
    },
    {
      "cell_type": "code",
      "execution_count": 23,
      "id": "2c84beab",
      "metadata": {
        "colab": {
          "base_uri": "https://localhost:8080/"
        },
        "id": "2c84beab",
        "outputId": "c0fe1f8f-0468-4a2f-ff37-94115b430b32"
      },
      "outputs": [
        {
          "name": "stdout",
          "output_type": "stream",
          "text": [
            "['1+1=', '21+35='] ['2', '56']\n"
          ]
        }
      ],
      "source": [
        "eval_debug = False\n",
        "\n",
        "prompts = [tokenizer.encode(\"1+1=\"), tokenizer.encode(\"21+35=\")]\n",
        "answers = [tokenizer.encode(\"2\"), tokenizer.encode(\"56\")]\n",
        "padded_prompts, _ = pad(prompts, \"prompts\")\n",
        "padded_answers, _ = pad(answers, \"answers\")\n",
        "padded_prompts, padded_answers\n",
        "print([tokenizer.decode(p) for p in padded_prompts], [tokenizer.decode(p) for p in padded_answers])\n"
      ]
    },
    {
      "cell_type": "code",
      "execution_count": 24,
      "id": "264f9227",
      "metadata": {
        "id": "264f9227"
      },
      "outputs": [],
      "source": [
        "def get_batch(split, i):\n",
        "    data = data_train if split == 'train' else data_test\n",
        "    prompts = [tokenizer.encode(data[i][0]) for i in range(i, i + batch_size)]\n",
        "    padded_prompts, length_prompts = pad(prompts, \"prompts\")\n",
        "    answers = [tokenizer.encode(data[i][1]) for i in range(i, i + batch_size)]\n",
        "    padded_answers, length_answers = pad(answers, \"answers\")\n",
        "    X = torch.stack([torch.tensor(x) for x in padded_prompts], 1)\n",
        "    Y = torch.stack([torch.tensor(x) for x in padded_answers], 1)\n",
        "    return X, Y, length_prompts, length_answers"
      ]
    },
    {
      "cell_type": "code",
      "execution_count": 25,
      "id": "91e281ad",
      "metadata": {
        "colab": {
          "base_uri": "https://localhost:8080/"
        },
        "id": "91e281ad",
        "outputId": "9daf9830-4212-4181-fb58-fbe2fc4d26e4"
      },
      "outputs": [
        {
          "data": {
            "text/plain": [
              "(torch.Size([11, 64]), torch.Size([4, 64]), 11, 3)"
            ]
          },
          "execution_count": 25,
          "metadata": {},
          "output_type": "execute_result"
        }
      ],
      "source": [
        "X, Y, length_prompts, length_answers = get_batch(\"train\", 243)\n",
        "X.shape, Y.shape, length_prompts, length_answers"
      ]
    },
    {
      "cell_type": "markdown",
      "id": "113e1fd1",
      "metadata": {
        "id": "113e1fd1"
      },
      "source": [
        "## Step 4: Evaluate"
      ]
    },
    {
      "cell_type": "code",
      "execution_count": 26,
      "id": "1cfcd10a",
      "metadata": {
        "id": "1cfcd10a"
      },
      "outputs": [],
      "source": [
        "def evaluate():\n",
        "    # Turn on evaluation mode disables dropout.\n",
        "    model.eval()\n",
        "    correct = 0.\n",
        "    with torch.no_grad():\n",
        "        for batch, i in enumerate(range(0, len(data_test)//4 - 1, batch_size)):\n",
        "            # print(\"batch\", i)\n",
        "            prompts, target_answers, length_prompts, length_answers = get_batch(\"test\", i)\n",
        "            prompts = prompts.to(device) # (length_prompts, batch_size)\n",
        "            target_answers = target_answers.to(device) # (length_answers + 1, batch_size)\n",
        "            output = generate(model, prompts, length_answers + 1) # (length_prompts + length_answers + 1, batch_size)\n",
        "            answers_tokens = output[length_prompts:, :] # (length_answers + 1, batch_size), contains tokens\n",
        "            equality_test = answers_tokens == target_answers # (length_answers + 1, batch_size), contains boolean values\n",
        "            correct += torch.all(equality_test, axis=0).float().sum()\n",
        "        accuracy = correct / len(data_test)\n",
        "    return accuracy.item()"
      ]
    },
    {
      "cell_type": "code",
      "execution_count": 27,
      "id": "ac335b05",
      "metadata": {
        "colab": {
          "base_uri": "https://localhost:8080/"
        },
        "id": "ac335b05",
        "outputId": "6019ab27-80be-4357-9a31-f29d142b464f"
      },
      "outputs": [
        {
          "data": {
            "text/plain": [
              "0.0"
            ]
          },
          "execution_count": 27,
          "metadata": {},
          "output_type": "execute_result"
        }
      ],
      "source": [
        "eval_debug = False\n",
        "evaluate()"
      ]
    },
    {
      "cell_type": "markdown",
      "id": "4c54061a",
      "metadata": {
        "id": "4c54061a"
      },
      "source": [
        "## Step 4: Train the model"
      ]
    },
    {
      "cell_type": "code",
      "execution_count": 28,
      "id": "3638a75d",
      "metadata": {
        "id": "3638a75d"
      },
      "outputs": [],
      "source": [
        "def train_epoch():\n",
        "    model.train()\n",
        "    optimizer = torch.optim.AdamW(model.parameters(), lr=learning_rate)\n",
        "    total_loss = 0.\n",
        "    start_time = time.time()\n",
        "    for batch, i in enumerate(range(0, len(data_train) - 1, batch_size)):\n",
        "        prompts, target_answers, length_prompts, length_answers = get_batch(\"train\", i)\n",
        "        prompts = prompts.to(device) # (length_prompts, batch_size)\n",
        "        target_answers = target_answers.to(device) # (length_answers, batch_size)\n",
        "        input_tensor = torch.cat((prompts, target_answers), 0) # (length_prompts + length_answers, batch_size)\n",
        "        # print(\"input_tensor.shape\", input_tensor.shape)\n",
        "        input_tensor = input_tensor.permute(1,0) # (batch_size, length_prompts + length_answers)\n",
        "        model.zero_grad()\n",
        "        output = model(input_tensor) # (batch_size, length_prompts + length_answers, , ntokens)\n",
        "        output = output.permute(1,0,2) # (length_prompts + length_answers, batch_size, ntokens)\n",
        "        # print(\"output.shape\", output.shape)\n",
        "        output_answers = output[length_prompts-1:-1,:,:].reshape(-1, ntokens) # (length_answers * batch_size, ntokens)\n",
        "        target_answers = target_answers.view(-1)\n",
        "        loss = F.cross_entropy(output_answers, target_answers)\n",
        "        loss.backward()\n",
        "        optimizer.step()\n",
        "\n",
        "        total_loss += loss.item()\n",
        "\n",
        "        if batch % log_interval == 0 and batch > 0:\n",
        "            cur_loss = total_loss / log_interval\n",
        "            elapsed = time.time() - start_time\n",
        "            print('| {:5d}/{:5d} batches | ms/batch {:5.2f} | loss {:5.2f} | perplexity {:8.2f}'.format(batch, len(data_train) // batch_size,\n",
        "                                                                                                        elapsed * 1000 / log_interval, cur_loss, math.exp(cur_loss)))\n",
        "            total_loss = 0\n",
        "            start_time = time.time()\n",
        "\n",
        "def train():\n",
        "    best_test_accuracy = None\n",
        "    test_accuracy = evaluate()\n",
        "    print('-' * 89)\n",
        "    print('| initialisation | test accuracy {:5.2f}'.format(test_accuracy))\n",
        "    print('-' * 89)\n",
        "    for epoch in range(1, epochs+1):\n",
        "        epoch_start_time = time.time()\n",
        "        train_epoch()\n",
        "        test_accuracy = evaluate()\n",
        "        print('-' * 89)\n",
        "        print('| end of epoch {:3d} | time: {:5.2f}s | test accuracy {:5.2f}'.format(epoch, (time.time() - epoch_start_time), test_accuracy))\n",
        "        print('-' * 89)\n",
        "        # Save the model if the test accuracy is the best we've seen so far.\n",
        "        if not best_test_accuracy or test_accuracy < best_test_accuracy:\n",
        "            with open(\"arithmetic.pt\", 'wb') as f:\n",
        "                torch.save(model, f)\n",
        "            best_test_accuracy = test_accuracy"
      ]
    },
    {
      "cell_type": "code",
      "execution_count": 29,
      "id": "4e2a8490",
      "metadata": {
        "colab": {
          "base_uri": "https://localhost:8080/"
        },
        "id": "4e2a8490",
        "outputId": "c22a2614-e93b-4147-ca29-750aa856c7e7"
      },
      "outputs": [
        {
          "name": "stdout",
          "output_type": "stream",
          "text": [
            "-----------------------------------------------------------------------------------------\n",
            "| initialisation | test accuracy  0.00\n",
            "-----------------------------------------------------------------------------------------\n",
            "|   200/  900 batches | ms/batch 178.64 | loss  1.15 | perplexity     3.17\n",
            "|   400/  900 batches | ms/batch 192.52 | loss  1.04 | perplexity     2.83\n",
            "|   600/  900 batches | ms/batch 342.57 | loss  1.28 | perplexity     3.60\n",
            "|   800/  900 batches | ms/batch 577.28 | loss  1.23 | perplexity     3.42\n",
            "-----------------------------------------------------------------------------------------\n",
            "| end of epoch   1 | time: 326.56s | test accuracy  0.00\n",
            "-----------------------------------------------------------------------------------------\n",
            "|   200/  900 batches | ms/batch 737.69 | loss  1.14 | perplexity     3.12\n",
            "|   400/  900 batches | ms/batch 677.11 | loss  1.36 | perplexity     3.89\n",
            "|   600/  900 batches | ms/batch 781.29 | loss  1.55 | perplexity     4.73\n",
            "|   800/  900 batches | ms/batch 1004.38 | loss  1.59 | perplexity     4.89\n",
            "-----------------------------------------------------------------------------------------\n",
            "| end of epoch   2 | time: 747.81s | test accuracy  0.00\n",
            "-----------------------------------------------------------------------------------------\n"
          ]
        },
        {
          "ename": "KeyboardInterrupt",
          "evalue": "",
          "output_type": "error",
          "traceback": [
            "\u001b[0;31m---------------------------------------------------------------------------\u001b[0m",
            "\u001b[0;31mKeyboardInterrupt\u001b[0m                         Traceback (most recent call last)",
            "Cell \u001b[0;32mIn[29], line 2\u001b[0m\n\u001b[1;32m      1\u001b[0m eval_debug\u001b[38;5;241m=\u001b[39m\u001b[38;5;28;01mFalse\u001b[39;00m\n\u001b[0;32m----> 2\u001b[0m train()\n",
            "Cell \u001b[0;32mIn[28], line 41\u001b[0m, in \u001b[0;36mtrain\u001b[0;34m()\u001b[0m\n\u001b[1;32m     39\u001b[0m \u001b[38;5;28;01mfor\u001b[39;00m epoch \u001b[38;5;129;01min\u001b[39;00m \u001b[38;5;28mrange\u001b[39m(\u001b[38;5;241m1\u001b[39m, epochs\u001b[38;5;241m+\u001b[39m\u001b[38;5;241m1\u001b[39m):\n\u001b[1;32m     40\u001b[0m     epoch_start_time \u001b[38;5;241m=\u001b[39m time\u001b[38;5;241m.\u001b[39mtime()\n\u001b[0;32m---> 41\u001b[0m     train_epoch()\n\u001b[1;32m     42\u001b[0m     test_accuracy \u001b[38;5;241m=\u001b[39m evaluate()\n\u001b[1;32m     43\u001b[0m     \u001b[38;5;28mprint\u001b[39m(\u001b[38;5;124m'\u001b[39m\u001b[38;5;124m-\u001b[39m\u001b[38;5;124m'\u001b[39m \u001b[38;5;241m*\u001b[39m \u001b[38;5;241m89\u001b[39m)\n",
            "Cell \u001b[0;32mIn[28], line 20\u001b[0m, in \u001b[0;36mtrain_epoch\u001b[0;34m()\u001b[0m\n\u001b[1;32m     18\u001b[0m target_answers \u001b[38;5;241m=\u001b[39m target_answers\u001b[38;5;241m.\u001b[39mview(\u001b[38;5;241m-\u001b[39m\u001b[38;5;241m1\u001b[39m)\n\u001b[1;32m     19\u001b[0m loss \u001b[38;5;241m=\u001b[39m F\u001b[38;5;241m.\u001b[39mcross_entropy(output_answers, target_answers)\n\u001b[0;32m---> 20\u001b[0m loss\u001b[38;5;241m.\u001b[39mbackward()\n\u001b[1;32m     21\u001b[0m optimizer\u001b[38;5;241m.\u001b[39mstep()\n\u001b[1;32m     23\u001b[0m total_loss \u001b[38;5;241m+\u001b[39m\u001b[38;5;241m=\u001b[39m loss\u001b[38;5;241m.\u001b[39mitem()\n",
            "File \u001b[0;32m~/anaconda3/envs/sql_jupyter/lib/python3.12/site-packages/torch/_tensor.py:626\u001b[0m, in \u001b[0;36mTensor.backward\u001b[0;34m(self, gradient, retain_graph, create_graph, inputs)\u001b[0m\n\u001b[1;32m    616\u001b[0m \u001b[38;5;28;01mif\u001b[39;00m has_torch_function_unary(\u001b[38;5;28mself\u001b[39m):\n\u001b[1;32m    617\u001b[0m     \u001b[38;5;28;01mreturn\u001b[39;00m handle_torch_function(\n\u001b[1;32m    618\u001b[0m         Tensor\u001b[38;5;241m.\u001b[39mbackward,\n\u001b[1;32m    619\u001b[0m         (\u001b[38;5;28mself\u001b[39m,),\n\u001b[0;32m   (...)\u001b[0m\n\u001b[1;32m    624\u001b[0m         inputs\u001b[38;5;241m=\u001b[39minputs,\n\u001b[1;32m    625\u001b[0m     )\n\u001b[0;32m--> 626\u001b[0m torch\u001b[38;5;241m.\u001b[39mautograd\u001b[38;5;241m.\u001b[39mbackward(\n\u001b[1;32m    627\u001b[0m     \u001b[38;5;28mself\u001b[39m, gradient, retain_graph, create_graph, inputs\u001b[38;5;241m=\u001b[39minputs\n\u001b[1;32m    628\u001b[0m )\n",
            "File \u001b[0;32m~/anaconda3/envs/sql_jupyter/lib/python3.12/site-packages/torch/autograd/__init__.py:347\u001b[0m, in \u001b[0;36mbackward\u001b[0;34m(tensors, grad_tensors, retain_graph, create_graph, grad_variables, inputs)\u001b[0m\n\u001b[1;32m    342\u001b[0m     retain_graph \u001b[38;5;241m=\u001b[39m create_graph\n\u001b[1;32m    344\u001b[0m \u001b[38;5;66;03m# The reason we repeat the same comment below is that\u001b[39;00m\n\u001b[1;32m    345\u001b[0m \u001b[38;5;66;03m# some Python versions print out the first line of a multi-line function\u001b[39;00m\n\u001b[1;32m    346\u001b[0m \u001b[38;5;66;03m# calls in the traceback and some print out the last line\u001b[39;00m\n\u001b[0;32m--> 347\u001b[0m _engine_run_backward(\n\u001b[1;32m    348\u001b[0m     tensors,\n\u001b[1;32m    349\u001b[0m     grad_tensors_,\n\u001b[1;32m    350\u001b[0m     retain_graph,\n\u001b[1;32m    351\u001b[0m     create_graph,\n\u001b[1;32m    352\u001b[0m     inputs,\n\u001b[1;32m    353\u001b[0m     allow_unreachable\u001b[38;5;241m=\u001b[39m\u001b[38;5;28;01mTrue\u001b[39;00m,\n\u001b[1;32m    354\u001b[0m     accumulate_grad\u001b[38;5;241m=\u001b[39m\u001b[38;5;28;01mTrue\u001b[39;00m,\n\u001b[1;32m    355\u001b[0m )\n",
            "File \u001b[0;32m~/anaconda3/envs/sql_jupyter/lib/python3.12/site-packages/torch/autograd/graph.py:823\u001b[0m, in \u001b[0;36m_engine_run_backward\u001b[0;34m(t_outputs, *args, **kwargs)\u001b[0m\n\u001b[1;32m    821\u001b[0m     unregister_hooks \u001b[38;5;241m=\u001b[39m _register_logging_hooks_on_whole_graph(t_outputs)\n\u001b[1;32m    822\u001b[0m \u001b[38;5;28;01mtry\u001b[39;00m:\n\u001b[0;32m--> 823\u001b[0m     \u001b[38;5;28;01mreturn\u001b[39;00m Variable\u001b[38;5;241m.\u001b[39m_execution_engine\u001b[38;5;241m.\u001b[39mrun_backward(  \u001b[38;5;66;03m# Calls into the C++ engine to run the backward pass\u001b[39;00m\n\u001b[1;32m    824\u001b[0m         t_outputs, \u001b[38;5;241m*\u001b[39margs, \u001b[38;5;241m*\u001b[39m\u001b[38;5;241m*\u001b[39mkwargs\n\u001b[1;32m    825\u001b[0m     )  \u001b[38;5;66;03m# Calls into the C++ engine to run the backward pass\u001b[39;00m\n\u001b[1;32m    826\u001b[0m \u001b[38;5;28;01mfinally\u001b[39;00m:\n\u001b[1;32m    827\u001b[0m     \u001b[38;5;28;01mif\u001b[39;00m attach_logging_hooks:\n",
            "\u001b[0;31mKeyboardInterrupt\u001b[0m: "
          ]
        }
      ],
      "source": [
        "eval_debug=False\n",
        "train()"
      ]
    },
    {
      "cell_type": "code",
      "execution_count": 30,
      "id": "56d9d440",
      "metadata": {
        "colab": {
          "base_uri": "https://localhost:8080/"
        },
        "id": "56d9d440",
        "outputId": "63ce7a34-fc1f-4a41-9985-bf3a9838f621"
      },
      "outputs": [
        {
          "name": "stdout",
          "output_type": "stream",
          "text": [
            "46+26=1\t actual result: 72\n",
            "66+70=11\t actual result: 136\n",
            "83+96=11\t actual result: 179\n",
            "29+62=1\t actual result: 91\n",
            "99+32=11\t actual result: 131\n",
            "5+7=1\t actual result: 12\n",
            "74+25=1\t actual result: 99\n",
            "34+58=1\t actual result: 92\n",
            "75+50=11\t actual result: 125\n",
            "33+67=11\t actual result: 100\n",
            "52+75=11\t actual result: 127\n",
            "54+8=1\t actual result: 62\n",
            "17+43=1\t actual result: 60\n",
            "34+94=11\t actual result: 128\n",
            "35+61=1\t actual result: 96\n",
            "9+66=1\t actual result: 75\n",
            "90+34=11\t actual result: 124\n",
            "5+67=1\t actual result: 72\n",
            "56+93=11\t actual result: 149\n",
            "23+7=1\t actual result: 30\n"
          ]
        }
      ],
      "source": [
        "eval_debug = False\n",
        "model.eval()\n",
        "\n",
        "for i in range(20):\n",
        "    prompt, answers = data_test[i]\n",
        "    prompt_tensor = torch.tensor(tokenizer.encode(prompt)).view((-1,1))\n",
        "    output = generate(model, prompt_tensor, len(answers)).view((1,-1))\n",
        "    print(tokenizer.decode(output.tolist()[0]) + \"\\t actual result: \" + answers)\n",
        "\n",
        "eval_debug = False"
      ]
    },
    {
      "cell_type": "markdown",
      "id": "qJ9IOZu8Xo4Y",
      "metadata": {
        "id": "qJ9IOZu8Xo4Y"
      },
      "source": [
        "## Probing"
      ]
    },
    {
      "cell_type": "markdown",
      "id": "78be1213",
      "metadata": {
        "id": "78be1213"
      },
      "source": [
        "This is just for fun..."
      ]
    },
    {
      "cell_type": "code",
      "execution_count": null,
      "id": "yomPfirhXkLb",
      "metadata": {
        "id": "yomPfirhXkLb"
      },
      "outputs": [],
      "source": [
        "import numpy as np\n",
        "\n",
        "train_size = 1000\n",
        "test_size = 100\n",
        "\n",
        "model.eval()\n",
        "\n",
        "def data_probing(size):\n",
        "    X = []\n",
        "    y = np.zeros(size)\n",
        "    for i in range(size):\n",
        "        input = torch.tensor(tokenizer.encode(data[i][0])).view((-1, 1)).to(device)\n",
        "        _, output = model(input)\n",
        "        output = output[-1,:,:].flatten()\n",
        "        # determine whether there was a carry in the result:\n",
        "        carry = len(data[i][1]) > len(data[i][0]) / 2\n",
        "        X.append(output.cpu().detach().numpy())\n",
        "        y[i] = carry\n",
        "    return np.array(X), y"
      ]
    },
    {
      "cell_type": "code",
      "execution_count": null,
      "id": "QGmfXVxkppfP",
      "metadata": {
        "colab": {
          "base_uri": "https://localhost:8080/"
        },
        "id": "QGmfXVxkppfP",
        "outputId": "6c7ebd2e-8760-4280-f7e4-871a831e80d5"
      },
      "outputs": [
        {
          "data": {
            "text/plain": [
              "0.99"
            ]
          },
          "execution_count": 182,
          "metadata": {},
          "output_type": "execute_result"
        }
      ],
      "source": [
        "from sklearn.linear_model import LogisticRegression\n",
        "from sklearn.preprocessing import StandardScaler\n",
        "\n",
        "X_train, y_train = data_probing(train_size)\n",
        "X_test, y_test = data_probing(test_size)\n",
        "\n",
        "scaler = StandardScaler()\n",
        "X_train = scaler.fit_transform(X_train)\n",
        "X_test = scaler.fit_transform(X_test)\n",
        "\n",
        "reg = LogisticRegression()\n",
        "reg.fit(X_train,y_train)\n",
        "reg.score(X_test, y_test)"
      ]
    }
  ],
  "metadata": {
    "accelerator": "GPU",
    "colab": {
      "gpuType": "T4",
      "provenance": []
    },
    "kernelspec": {
      "display_name": "sql_jupyter",
      "language": "python",
      "name": "python3"
    },
    "language_info": {
      "codemirror_mode": {
        "name": "ipython",
        "version": 3
      },
      "file_extension": ".py",
      "mimetype": "text/x-python",
      "name": "python",
      "nbconvert_exporter": "python",
      "pygments_lexer": "ipython3",
      "version": "3.12.9"
    }
  },
  "nbformat": 4,
  "nbformat_minor": 5
}
