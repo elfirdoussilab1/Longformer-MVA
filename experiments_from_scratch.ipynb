{
 "cells": [
  {
   "cell_type": "code",
   "execution_count": 2,
   "metadata": {},
   "outputs": [],
   "source": [
    "from transformers_from_scratch import Transformer, Longformer\n",
    "import torch\n",
    "import time\n",
    "from tqdm import tqdm\n",
    "\n",
    "vocab_size = 30000  # Common for BERT-based models\n",
    "embed_dim = 512\n",
    "num_heads = 8\n",
    "window_size = 3\n",
    "ffn_dim = 2048\n",
    "num_layers = 6\n",
    "max_len = 5000\n",
    "dim_head = 64\n",
    "dim_value = 64\n",
    "dim_query = 64\n",
    "\n",
    "transformer = Transformer(vocab_size, embed_dim, num_heads, ffn_dim, num_layers, max_len, dim_value, dim_query)\n",
    "longformer = Longformer(vocab_size, embed_dim, num_heads, ffn_dim, num_layers, max_len, dim_value, dim_query, window_size)\n",
    "\n",
    "# transformer.to('cuda:0')\n",
    "# longformer.to('cuda:0')"
   ]
  },
  {
   "cell_type": "code",
   "execution_count": null,
   "metadata": {},
   "outputs": [],
   "source": [
    "def compute_time_for_different_seq_lengths(vocab_size, embed_dim, num_heads, window_size, ffn_dim, num_layers, max_len, dim_value, dim_query, device='cuda:0'):\n",
    "    # seq_lengths = list(range(5000))  # Extends to 2048 # Sequence lengths from 32 to 1024\n",
    "    seq_lengths = [5, 10, 50, 200, 500, 1000, 2000, 2250, 2500, 2750, 3000, 3250, 3500, 3750, 4000, 4250, 4500, 4750, 5000, 5250, 5500]\n",
    "    list_times = []\n",
    "    list_memory_usage = []\n",
    "\n",
    "\n",
    "    transformer = Transformer(vocab_size, embed_dim, num_heads, ffn_dim, num_layers, max_len, dim_value, dim_query)\n",
    "    longformer = Longformer(vocab_size, embed_dim, num_heads, ffn_dim, num_layers, max_len, dim_value, dim_query, window_size)\n",
    "    transformer.to(device)\n",
    "    longformer.to(device)\n",
    "\n",
    "    for model in (transformer, longformer):\n",
    "        # Reset peak memory stats\n",
    "        model.to(device)\n",
    "        # allocated, reserved = get_torch_memory()\n",
    "        # Before execution\n",
    "\n",
    "        torch.cuda.empty_cache()  # Ensure memory is clean\n",
    "        times = []\n",
    "        memory_usage = []\n",
    "        for seq_len in tqdm(seq_lengths):\n",
    "            torch.cuda.reset_peak_memory_stats()\n",
    "            print(f'\\n****seq_len = {seq_len}****')\n",
    "            print(f\"Before execution - Allocated: {torch.cuda.memory_allocated() / 1024**2:.2f} MB\")\n",
    "            print(f\"Peak allocated: {torch.cuda.max_memory_allocated() / 1024**2:.2f} MB\")            \n",
    "            print(f\"Reserved: {torch.cuda.memory_reserved() / 1024**2:.2f} MB\")\n",
    "            sample_input = torch.randint(0, vocab_size, (1, seq_len)).to(device)  # Batch of 1, variable seq_len\n",
    "            # Measure time\n",
    "            torch.cuda.synchronize()\n",
    "            start_time = time.time()\n",
    "            with torch.no_grad():\n",
    "                model(sample_input)\n",
    "            end_time = time.time()\n",
    "            torch.cuda.synchronize()\n",
    "            # After execution\n",
    "            print(f\"After execution - Allocated: {torch.cuda.memory_allocated() / 1024**2:.2f} MB\")\n",
    "            print(f\"Reserved: {torch.cuda.memory_reserved() / 1024**3:.2f} GB\")\n",
    "            print(f\"Peak allocated: {torch.cuda.max_memory_allocated() / 1024**3:.2f} MB\")            \n",
    "            mem_after = torch.cuda.memory_allocated(device)\n",
    "            memory_usage.append(torch.cuda.memory_reserved() / 1024**3)\n",
    "            # Store time for this sequence length\n",
    "            times.append(end_time - start_time)\n",
    "\n",
    "            # Remove input tensor and clear cache\n",
    "            del sample_input\n",
    "            torch.cuda.empty_cache()\n",
    "\n",
    "        list_times.append(times)\n",
    "        list_memory_usage.append(memory_usage)\n",
    "\n",
    "    return seq_lengths, list_times, list_memory_usage"
   ]
  },
  {
   "cell_type": "code",
   "execution_count": 4,
   "metadata": {},
   "outputs": [
    {
     "name": "stderr",
     "output_type": "stream",
     "text": [
      "  5%|▌         | 1/19 [00:00<00:03,  5.40it/s]"
     ]
    },
    {
     "name": "stdout",
     "output_type": "stream",
     "text": [
      "\n",
      "****seq_len = 50****\n",
      "Before execution - Allocated: 587.07 MB\n",
      "Peak allocated: 587.07 MB\n",
      "Reserved: 606.00 MB\n",
      "After execution - Allocated: 595.20 MB\n",
      "Reserved: 0.62 GB\n",
      "Peak allocated: 0.59 MB\n",
      "\n",
      "****seq_len = 200****\n",
      "Before execution - Allocated: 595.20 MB\n",
      "Peak allocated: 595.20 MB\n",
      "Reserved: 606.00 MB\n",
      "After execution - Allocated: 595.20 MB\n",
      "Reserved: 0.64 GB\n",
      "Peak allocated: 0.61 MB\n",
      "\n",
      "****seq_len = 500****\n",
      "Before execution - Allocated: 595.20 MB\n",
      "Peak allocated: 595.20 MB\n",
      "Reserved: 606.00 MB\n",
      "After execution - Allocated: 595.20 MB\n",
      "Reserved: 0.74 GB\n",
      "Peak allocated: 0.71 MB\n"
     ]
    },
    {
     "name": "stderr",
     "output_type": "stream",
     "text": [
      " 26%|██▋       | 5/19 [00:00<00:00, 20.04it/s]"
     ]
    },
    {
     "name": "stdout",
     "output_type": "stream",
     "text": [
      "\n",
      "****seq_len = 1000****\n",
      "Before execution - Allocated: 595.20 MB\n",
      "Peak allocated: 595.20 MB\n",
      "Reserved: 606.00 MB\n",
      "After execution - Allocated: 595.21 MB\n",
      "Reserved: 1.33 GB\n",
      "Peak allocated: 1.08 MB\n",
      "\n",
      "****seq_len = 2000****\n",
      "Before execution - Allocated: 595.20 MB\n",
      "Peak allocated: 595.20 MB\n",
      "Reserved: 606.00 MB\n",
      "After execution - Allocated: 595.21 MB\n",
      "Reserved: 3.51 GB\n",
      "Peak allocated: 2.53 MB\n",
      "\n",
      "****seq_len = 2250****\n",
      "Before execution - Allocated: 595.20 MB\n",
      "Peak allocated: 595.20 MB\n",
      "Reserved: 606.00 MB\n",
      "After execution - Allocated: 595.22 MB\n",
      "Reserved: 4.27 GB\n",
      "Peak allocated: 3.04 MB\n",
      "\n",
      "****seq_len = 2500****\n",
      "Before execution - Allocated: 595.20 MB\n",
      "Peak allocated: 595.20 MB\n",
      "Reserved: 606.00 MB\n"
     ]
    },
    {
     "name": "stderr",
     "output_type": "stream",
     "text": [
      " 42%|████▏     | 8/19 [00:00<00:00, 13.11it/s]"
     ]
    },
    {
     "name": "stdout",
     "output_type": "stream",
     "text": [
      "After execution - Allocated: 595.22 MB\n",
      "Reserved: 5.12 GB\n",
      "Peak allocated: 3.62 MB\n",
      "\n",
      "****seq_len = 2750****\n",
      "Before execution - Allocated: 595.20 MB\n",
      "Peak allocated: 595.20 MB\n",
      "Reserved: 606.00 MB\n",
      "After execution - Allocated: 595.22 MB\n",
      "Reserved: 6.07 GB\n",
      "Peak allocated: 4.25 MB\n",
      "\n",
      "****seq_len = 3000****\n",
      "Before execution - Allocated: 595.20 MB\n",
      "Peak allocated: 595.20 MB\n",
      "Reserved: 606.00 MB\n"
     ]
    },
    {
     "name": "stderr",
     "output_type": "stream",
     "text": [
      " 53%|█████▎    | 10/19 [00:00<00:00, 10.21it/s]"
     ]
    },
    {
     "name": "stdout",
     "output_type": "stream",
     "text": [
      "After execution - Allocated: 595.22 MB\n",
      "Reserved: 7.10 GB\n",
      "Peak allocated: 4.94 MB\n",
      "\n",
      "****seq_len = 3250****\n",
      "Before execution - Allocated: 595.20 MB\n",
      "Peak allocated: 595.20 MB\n",
      "Reserved: 606.00 MB\n",
      "After execution - Allocated: 595.22 MB\n",
      "Reserved: 8.22 GB\n",
      "Peak allocated: 5.69 MB\n",
      "\n",
      "****seq_len = 3500****\n",
      "Before execution - Allocated: 595.20 MB\n",
      "Peak allocated: 595.20 MB\n",
      "Reserved: 606.00 MB\n",
      "After execution - Allocated: 595.23 MB\n",
      "Reserved: 9.45 GB\n",
      "Peak allocated: 6.50 MB\n",
      "\n",
      "****seq_len = 3750****\n",
      "Before execution - Allocated: 595.20 MB\n",
      "Peak allocated: 595.20 MB\n",
      "Reserved: 606.00 MB\n"
     ]
    },
    {
     "name": "stderr",
     "output_type": "stream",
     "text": [
      " 63%|██████▎   | 12/19 [00:01<00:00,  7.39it/s]"
     ]
    },
    {
     "name": "stdout",
     "output_type": "stream",
     "text": [
      "After execution - Allocated: 595.23 MB\n",
      "Reserved: 10.75 GB\n",
      "Peak allocated: 7.37 MB\n",
      "\n",
      "****seq_len = 4000****\n",
      "Before execution - Allocated: 595.20 MB\n",
      "Peak allocated: 595.20 MB\n",
      "Reserved: 606.00 MB\n",
      "After execution - Allocated: 595.23 MB\n",
      "Reserved: 12.14 GB\n",
      "Peak allocated: 8.29 MB\n",
      "\n",
      "****seq_len = 4250****\n",
      "Before execution - Allocated: 595.20 MB\n",
      "Peak allocated: 595.20 MB\n",
      "Reserved: 606.00 MB\n"
     ]
    },
    {
     "name": "stderr",
     "output_type": "stream",
     "text": [
      " 74%|███████▎  | 14/19 [00:02<00:01,  4.78it/s]"
     ]
    },
    {
     "name": "stdout",
     "output_type": "stream",
     "text": [
      "After execution - Allocated: 595.23 MB\n",
      "Reserved: 13.62 GB\n",
      "Peak allocated: 9.28 MB\n",
      "\n",
      "****seq_len = 4500****\n",
      "Before execution - Allocated: 595.20 MB\n",
      "Peak allocated: 595.20 MB\n",
      "Reserved: 606.00 MB\n"
     ]
    },
    {
     "name": "stderr",
     "output_type": "stream",
     "text": [
      " 79%|███████▉  | 15/19 [00:02<00:01,  3.70it/s]"
     ]
    },
    {
     "name": "stdout",
     "output_type": "stream",
     "text": [
      "After execution - Allocated: 595.23 MB\n",
      "Reserved: 15.19 GB\n",
      "Peak allocated: 10.33 MB\n",
      "\n",
      "****seq_len = 4750****\n",
      "Before execution - Allocated: 595.20 MB\n",
      "Peak allocated: 595.20 MB\n",
      "Reserved: 606.00 MB\n"
     ]
    },
    {
     "name": "stderr",
     "output_type": "stream",
     "text": [
      " 84%|████████▍ | 16/19 [00:03<00:01,  2.94it/s]"
     ]
    },
    {
     "name": "stdout",
     "output_type": "stream",
     "text": [
      "After execution - Allocated: 595.23 MB\n",
      "Reserved: 16.85 GB\n",
      "Peak allocated: 11.44 MB\n",
      "\n",
      "****seq_len = 5000****\n",
      "Before execution - Allocated: 595.20 MB\n",
      "Peak allocated: 595.20 MB\n",
      "Reserved: 606.00 MB\n"
     ]
    },
    {
     "name": "stderr",
     "output_type": "stream",
     "text": [
      " 89%|████████▉ | 17/19 [00:03<00:00,  2.48it/s]"
     ]
    },
    {
     "name": "stdout",
     "output_type": "stream",
     "text": [
      "After execution - Allocated: 595.24 MB\n",
      "Reserved: 18.59 GB\n",
      "Peak allocated: 12.61 MB\n",
      "\n",
      "****seq_len = 5250****\n",
      "Before execution - Allocated: 595.20 MB\n",
      "Peak allocated: 595.20 MB\n",
      "Reserved: 606.00 MB\n"
     ]
    },
    {
     "name": "stderr",
     "output_type": "stream",
     "text": [
      " 95%|█████████▍| 18/19 [00:04<00:00,  2.08it/s]"
     ]
    },
    {
     "name": "stdout",
     "output_type": "stream",
     "text": [
      "After execution - Allocated: 595.24 MB\n",
      "Reserved: 20.43 GB\n",
      "Peak allocated: 13.84 MB\n",
      "\n",
      "****seq_len = 5500****\n",
      "Before execution - Allocated: 595.20 MB\n",
      "Peak allocated: 595.20 MB\n",
      "Reserved: 606.00 MB\n"
     ]
    },
    {
     "name": "stderr",
     "output_type": "stream",
     "text": [
      "100%|██████████| 19/19 [00:05<00:00,  3.53it/s]\n"
     ]
    },
    {
     "name": "stdout",
     "output_type": "stream",
     "text": [
      "After execution - Allocated: 595.24 MB\n",
      "Reserved: 22.35 GB\n",
      "Peak allocated: 15.12 MB\n"
     ]
    },
    {
     "name": "stderr",
     "output_type": "stream",
     "text": [
      " 26%|██▋       | 5/19 [00:00<00:00, 29.60it/s]"
     ]
    },
    {
     "name": "stdout",
     "output_type": "stream",
     "text": [
      "\n",
      "****seq_len = 50****\n",
      "Before execution - Allocated: 595.20 MB\n",
      "Peak allocated: 595.20 MB\n",
      "Reserved: 606.00 MB\n",
      "After execution - Allocated: 595.20 MB\n",
      "Reserved: 0.62 GB\n",
      "Peak allocated: 0.59 MB\n",
      "\n",
      "****seq_len = 200****\n",
      "Before execution - Allocated: 595.20 MB\n",
      "Peak allocated: 595.20 MB\n",
      "Reserved: 606.00 MB\n",
      "After execution - Allocated: 595.20 MB\n",
      "Reserved: 0.64 GB\n",
      "Peak allocated: 0.61 MB\n",
      "\n",
      "****seq_len = 500****\n",
      "Before execution - Allocated: 595.20 MB\n",
      "Peak allocated: 595.20 MB\n",
      "Reserved: 606.00 MB\n",
      "After execution - Allocated: 595.20 MB\n",
      "Reserved: 0.74 GB\n",
      "Peak allocated: 0.71 MB\n",
      "\n",
      "****seq_len = 1000****\n",
      "Before execution - Allocated: 595.20 MB\n",
      "Peak allocated: 595.20 MB\n",
      "Reserved: 606.00 MB\n",
      "After execution - Allocated: 595.21 MB\n",
      "Reserved: 1.11 GB\n",
      "Peak allocated: 1.08 MB\n",
      "\n",
      "****seq_len = 2000****\n",
      "Before execution - Allocated: 595.20 MB\n",
      "Peak allocated: 595.20 MB\n",
      "Reserved: 606.00 MB\n",
      "After execution - Allocated: 595.21 MB\n",
      "Reserved: 3.51 GB\n",
      "Peak allocated: 2.53 MB\n",
      "\n",
      "****seq_len = 2250****\n",
      "Before execution - Allocated: 595.20 MB\n",
      "Peak allocated: 595.20 MB\n",
      "Reserved: 606.00 MB\n",
      "After execution - Allocated: 595.22 MB\n",
      "Reserved: 3.08 GB\n",
      "Peak allocated: 3.04 MB\n",
      "\n",
      "****seq_len = 2500****\n",
      "Before execution - Allocated: 595.20 MB\n",
      "Peak allocated: 595.20 MB\n",
      "Reserved: 606.00 MB\n",
      "After execution - Allocated: 595.22 MB\n",
      "Reserved: 3.65 GB\n",
      "Peak allocated: 3.62 MB\n",
      "\n",
      "****seq_len = 2750****\n",
      "Before execution - Allocated: 595.20 MB\n",
      "Peak allocated: 595.20 MB\n",
      "Reserved: 606.00 MB\n"
     ]
    },
    {
     "name": "stderr",
     "output_type": "stream",
     "text": [
      " 42%|████▏     | 8/19 [00:00<00:00, 12.43it/s]"
     ]
    },
    {
     "name": "stdout",
     "output_type": "stream",
     "text": [
      "After execution - Allocated: 595.22 MB\n",
      "Reserved: 4.29 GB\n",
      "Peak allocated: 4.25 MB\n",
      "\n",
      "****seq_len = 3000****\n",
      "Before execution - Allocated: 595.20 MB\n",
      "Peak allocated: 595.20 MB\n",
      "Reserved: 606.00 MB\n",
      "After execution - Allocated: 595.22 MB\n",
      "Reserved: 4.97 GB\n",
      "Peak allocated: 4.94 MB\n",
      "\n",
      "****seq_len = 3250****\n",
      "Before execution - Allocated: 595.20 MB\n",
      "Peak allocated: 595.20 MB\n",
      "Reserved: 606.00 MB\n"
     ]
    },
    {
     "name": "stderr",
     "output_type": "stream",
     "text": [
      " 53%|█████▎    | 10/19 [00:00<00:00,  9.84it/s]"
     ]
    },
    {
     "name": "stdout",
     "output_type": "stream",
     "text": [
      "After execution - Allocated: 595.22 MB\n",
      "Reserved: 5.72 GB\n",
      "Peak allocated: 5.69 MB\n",
      "\n",
      "****seq_len = 3500****\n",
      "Before execution - Allocated: 595.20 MB\n",
      "Peak allocated: 595.20 MB\n",
      "Reserved: 606.00 MB\n",
      "After execution - Allocated: 595.23 MB\n",
      "Reserved: 6.55 GB\n",
      "Peak allocated: 6.50 MB\n",
      "\n",
      "****seq_len = 3750****\n",
      "Before execution - Allocated: 595.20 MB\n",
      "Peak allocated: 595.20 MB\n",
      "Reserved: 606.00 MB\n"
     ]
    },
    {
     "name": "stderr",
     "output_type": "stream",
     "text": [
      " 63%|██████▎   | 12/19 [00:01<00:00,  7.79it/s]"
     ]
    },
    {
     "name": "stdout",
     "output_type": "stream",
     "text": [
      "After execution - Allocated: 595.23 MB\n",
      "Reserved: 7.42 GB\n",
      "Peak allocated: 7.37 MB\n",
      "\n",
      "****seq_len = 4000****\n",
      "Before execution - Allocated: 595.20 MB\n",
      "Peak allocated: 595.20 MB\n",
      "Reserved: 606.00 MB\n",
      "After execution - Allocated: 595.23 MB\n",
      "Reserved: 8.35 GB\n",
      "Peak allocated: 8.30 MB\n"
     ]
    },
    {
     "name": "stderr",
     "output_type": "stream",
     "text": [
      " 68%|██████▊   | 13/19 [00:01<00:00,  7.09it/s]"
     ]
    },
    {
     "name": "stdout",
     "output_type": "stream",
     "text": [
      "\n",
      "****seq_len = 4250****\n",
      "Before execution - Allocated: 595.20 MB\n",
      "Peak allocated: 595.20 MB\n",
      "Reserved: 606.00 MB\n"
     ]
    },
    {
     "name": "stderr",
     "output_type": "stream",
     "text": [
      " 74%|███████▎  | 14/19 [00:01<00:00,  6.13it/s]"
     ]
    },
    {
     "name": "stdout",
     "output_type": "stream",
     "text": [
      "After execution - Allocated: 595.23 MB\n",
      "Reserved: 9.33 GB\n",
      "Peak allocated: 9.29 MB\n",
      "\n",
      "****seq_len = 4500****\n",
      "Before execution - Allocated: 595.20 MB\n",
      "Peak allocated: 595.20 MB\n",
      "Reserved: 606.00 MB\n"
     ]
    },
    {
     "name": "stderr",
     "output_type": "stream",
     "text": [
      " 79%|███████▉  | 15/19 [00:01<00:00,  5.42it/s]"
     ]
    },
    {
     "name": "stdout",
     "output_type": "stream",
     "text": [
      "After execution - Allocated: 595.23 MB\n",
      "Reserved: 10.38 GB\n",
      "Peak allocated: 10.33 MB\n",
      "\n",
      "****seq_len = 4750****\n",
      "Before execution - Allocated: 595.20 MB\n",
      "Peak allocated: 595.20 MB\n",
      "Reserved: 606.00 MB\n"
     ]
    },
    {
     "name": "stderr",
     "output_type": "stream",
     "text": [
      " 84%|████████▍ | 16/19 [00:02<00:00,  4.71it/s]"
     ]
    },
    {
     "name": "stdout",
     "output_type": "stream",
     "text": [
      "After execution - Allocated: 595.23 MB\n",
      "Reserved: 11.49 GB\n",
      "Peak allocated: 11.44 MB\n",
      "\n",
      "****seq_len = 5000****\n",
      "Before execution - Allocated: 595.20 MB\n",
      "Peak allocated: 595.20 MB\n",
      "Reserved: 606.00 MB\n"
     ]
    },
    {
     "name": "stderr",
     "output_type": "stream",
     "text": [
      " 89%|████████▉ | 17/19 [00:02<00:00,  3.37it/s]"
     ]
    },
    {
     "name": "stdout",
     "output_type": "stream",
     "text": [
      "After execution - Allocated: 595.24 MB\n",
      "Reserved: 12.65 GB\n",
      "Peak allocated: 12.61 MB\n",
      "\n",
      "****seq_len = 5250****\n",
      "Before execution - Allocated: 595.20 MB\n",
      "Peak allocated: 595.20 MB\n",
      "Reserved: 606.00 MB\n"
     ]
    },
    {
     "name": "stderr",
     "output_type": "stream",
     "text": [
      " 95%|█████████▍| 18/19 [00:03<00:00,  2.55it/s]"
     ]
    },
    {
     "name": "stdout",
     "output_type": "stream",
     "text": [
      "After execution - Allocated: 595.24 MB\n",
      "Reserved: 20.45 GB\n",
      "Peak allocated: 13.84 MB\n",
      "\n",
      "****seq_len = 5500****\n",
      "Before execution - Allocated: 595.20 MB\n",
      "Peak allocated: 595.20 MB\n",
      "Reserved: 606.00 MB\n"
     ]
    },
    {
     "name": "stderr",
     "output_type": "stream",
     "text": [
      "100%|██████████| 19/19 [00:04<00:00,  4.53it/s]"
     ]
    },
    {
     "name": "stdout",
     "output_type": "stream",
     "text": [
      "After execution - Allocated: 595.24 MB\n",
      "Reserved: 22.37 GB\n",
      "Peak allocated: 15.12 MB\n"
     ]
    },
    {
     "name": "stderr",
     "output_type": "stream",
     "text": [
      "\n"
     ]
    },
    {
     "data": {
      "image/png": "[encoded data removed]",
      "text/plain": [
       "<Figure size 1200x600 with 2 Axes>"
      ]
     },
     "metadata": {},
     "output_type": "display_data"
    }
   ],
   "source": [
    "import matplotlib.pyplot as plt\n",
    "\n",
    "vocab_size = 30000  # Common for BERT-based models\n",
    "embed_dim = 512\n",
    "num_heads = 8\n",
    "window_size = 3\n",
    "ffn_dim = 2048\n",
    "num_layers = 6\n",
    "max_len = 10000\n",
    "dim_head = 64\n",
    "dim_value = 64\n",
    "dim_query = 64\n",
    "\n",
    "seq_lengths, times, memory_usage = compute_time_for_different_seq_lengths(vocab_size=vocab_size, embed_dim=embed_dim, num_heads=num_heads, ffn_dim=ffn_dim, num_layers=num_layers, max_len=max_len, window_size=window_size, dim_value=dim_value, dim_query=dim_query, device='cuda:0')\n",
    "\n",
    "# Plotting Computation Time vs Sequence Length\n",
    "plt.figure(figsize=(12, 6))\n",
    "\n",
    "# Subplot 1: Computation Time\n",
    "plt.subplot(1, 2, 1)\n",
    "plt.plot(seq_lengths, times[0], marker='o', label='Transformer')\n",
    "plt.plot(seq_lengths, times[1], marker='x', label='Longformer')\n",
    "plt.title(\"Computation Time vs. Sequence Length\")\n",
    "plt.xlabel(\"Sequence Length\")\n",
    "plt.ylabel(\"Computation Time (seconds)\")\n",
    "plt.legend()\n",
    "plt.grid(True)\n",
    "\n",
    "# Subplot 2: Memory Usage\n",
    "plt.subplot(1, 2, 2)\n",
    "plt.plot(seq_lengths, memory_usage[0], marker='o', label='Transformer Memory Usage')\n",
    "plt.plot(seq_lengths, memory_usage[1], marker='x', label='Longformer Memory Usage')\n",
    "plt.title(\"Memory Usage vs. Sequence Length\")\n",
    "plt.xlabel(\"Sequence Length\")\n",
    "plt.ylabel(\"Memory Usage (Gb)\")\n",
    "plt.legend()\n",
    "plt.grid(True)\n",
    "\n",
    "# Display both plots\n",
    "plt.tight_layout()\n",
    "plt.show()"
   ]
  },
  {
   "cell_type": "code",
   "execution_count": 5,
   "metadata": {},
   "outputs": [
    {
     "name": "stdout",
     "output_type": "stream",
     "text": [
      "Estimated alpha: 0.6581024018142169\n",
      "Estimated alpha: 0.8458407057587986\n"
     ]
    }
   ],
   "source": [
    "import numpy as np\n",
    "from scipy.stats import linregress\n",
    "\n",
    "for t in times:\n",
    "# Take the natural logarithm of both arrays\n",
    "    log_seq = np.log(seq_lengths)\n",
    "    log_time = np.log(t)\n",
    "\n",
    "    # Perform linear regression\n",
    "    slope, intercept, r_value, p_value, std_err = linregress(log_seq, log_time)\n",
    "\n",
    "    # The slope is the exponent alpha\n",
    "    alpha = slope\n",
    "\n",
    "    print(f\"Estimated alpha: {alpha}\")"
   ]
  },
  {
   "cell_type": "code",
   "execution_count": 6,
   "metadata": {},
   "outputs": [
    {
     "name": "stdout",
     "output_type": "stream",
     "text": [
      "slope = 1.0194406867468664, intercept = -4.041829579218112\n",
      "Estimated alpha: 1.0194406867468664\n",
      "slope = 1.1050758677299926, intercept = -3.9288836992621756\n",
      "Estimated alpha: 1.1050758677299926\n"
     ]
    }
   ],
   "source": [
    "for m in memory_usage:\n",
    "# Take the natural logarithm of both arrays\n",
    "    log_seq = np.log(seq_lengths)\n",
    "    log_mem = np.log(m)\n",
    "\n",
    "    # Perform linear regression\n",
    "    slope, intercept, r_value, p_value, std_err = linregress(log_mem, log_time)\n",
    "    print(f'slope = {slope}, intercept = {intercept}')\n",
    "    # The slope is the exponent alpha\n",
    "    alpha = slope\n",
    "\n",
    "    print(f\"Estimated alpha: {alpha}\")"
   ]
  }
 ],
 "metadata": {
  "kernelspec": {
   "display_name": "Python 3",
   "language": "python",
   "name": "python3"
  },
  "language_info": {
   "codemirror_mode": {
    "name": "ipython",
    "version": 3
   },
   "file_extension": ".py",
   "mimetype": "text/x-python",
   "name": "python",
   "nbconvert_exporter": "python",
   "pygments_lexer": "ipython3",
   "version": "3.10.12"
  }
 },
 "nbformat": 4,
 "nbformat_minor": 2
}
