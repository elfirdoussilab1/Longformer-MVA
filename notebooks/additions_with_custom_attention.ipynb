{
  "cells": [
    {
      "cell_type": "code",
      "execution_count": 2,
      "metadata": {
        "id": "WzN6KOWxk9pE"
      },
      "outputs": [],
      "source": [
        "import torch\n",
        "import torch.nn as nn\n",
        "import torch.nn.functional as F\n",
        "import random\n",
        "import math\n",
        "import numpy as np\n",
        "from src.utils.addition_utils import character_level_tokenizer, PositionalEmbedding\n",
        "import seaborn as sns\n",
        "import matplotlib.pyplot as plt\n",
        "import time"
      ]
    },
    {
      "cell_type": "code",
      "execution_count": 25,
      "metadata": {
        "id": "KH_Y6ENjk9pG"
      },
      "outputs": [],
      "source": [
        "dataset_size = 64_000\n",
        "train_proportion = 0.9\n",
        "\n",
        "log_interval = 200\n",
        "batch_size = 64\n",
        "epochs = 20\n",
        "learning_rate = 5e-4"
      ]
    },
    {
      "cell_type": "code",
      "execution_count": 26,
      "metadata": {
        "colab": {
          "base_uri": "https://localhost:8080/"
        },
        "id": "QxRS9supk9pI",
        "outputId": "3e8c07bf-133b-422b-942c-4ccdd5988cab"
      },
      "outputs": [
        {
          "output_type": "execute_result",
          "data": {
            "text/plain": [
              "('729+970=', '1699')"
            ]
          },
          "metadata": {},
          "execution_count": 26
        }
      ],
      "source": [
        "def sample_datapoint(number_bits = 3):\n",
        "    \"\"\"\n",
        "    returns a string containing two random numbers on `number_bits` many bits and their sum.\n",
        "    \"\"\"\n",
        "    a_list = [random.randint(0, 9) for _ in range(number_bits)]\n",
        "    b_list = [random.randint(0, 9) for _ in range(number_bits)]\n",
        "    a_str = \"\".join([str(x) for x in a_list])\n",
        "    b_str = \"\".join([str(x) for x in b_list])\n",
        "    sum_int = int(a_str) + int(b_str)\n",
        "    return (str(a_str) + \"+\" + str(b_str) + \"=\", str(sum_int))\n",
        "\n",
        "sample_datapoint(3)"
      ]
    },
    {
      "cell_type": "code",
      "execution_count": 27,
      "metadata": {
        "colab": {
          "base_uri": "https://localhost:8080/"
        },
        "id": "8tmBu1ESk9pJ",
        "outputId": "8c5afa17-408d-4efc-df3a-a12542fe7a18"
      },
      "outputs": [
        {
          "output_type": "execute_result",
          "data": {
            "text/plain": [
              "[('1348132+2802719=', '4150851'),\n",
              " ('5792391+0556715=', '6349106'),\n",
              " ('3232858+7692140=', '10924998'),\n",
              " ('9378113+4263310=', '13641423')]"
            ]
          },
          "metadata": {},
          "execution_count": 27
        }
      ],
      "source": [
        "n_digits = 7\n",
        "data = []\n",
        "for _ in range(dataset_size):\n",
        "    data.append(sample_datapoint(n_digits))\n",
        "data[:4]"
      ]
    },
    {
      "cell_type": "code",
      "execution_count": 28,
      "metadata": {
        "colab": {
          "base_uri": "https://localhost:8080/"
        },
        "id": "JSJAwgh0k9pK",
        "outputId": "ad251fa1-a446-4e1e-b836-417f21198912"
      },
      "outputs": [
        {
          "output_type": "execute_result",
          "data": {
            "text/plain": [
              "(57600, 6400)"
            ]
          },
          "metadata": {},
          "execution_count": 28
        }
      ],
      "source": [
        "data_train = data[: int(train_proportion * dataset_size)]\n",
        "data_test = data[int(train_proportion * dataset_size):]\n",
        "\n",
        "len(data_train),len(data_test)"
      ]
    },
    {
      "cell_type": "code",
      "execution_count": 29,
      "metadata": {
        "id": "xxUIYQVbk9pL"
      },
      "outputs": [],
      "source": [
        "n_digits = 7\n",
        "tokenizer = character_level_tokenizer()\n",
        "device = \"cuda\" if torch.cuda.is_available() else \"cpu\"\n",
        "pad_token = '[PAD]'\n",
        "eos_token = '[EOS]'\n",
        "\n",
        "class TransformerModel(nn.Transformer):\n",
        "    def __init__(self, ntoken, ninp, nhead, nhid, nlayers):\n",
        "        super(TransformerModel, self).__init__(d_model=ninp,\n",
        "                                               nhead=nhead,\n",
        "                                               dim_feedforward=nhid,\n",
        "                                               num_encoder_layers=nlayers)\n",
        "        self.input_emb = nn.Embedding(ntoken, ninp)\n",
        "        self.pos_encoder = PositionalEmbedding(ninp)\n",
        "        self.decoder = nn.Linear(ninp, ntoken)\n",
        "\n",
        "        self.ninp = ninp\n",
        "        self.global_mask = self.generate_longformer_mask()\n",
        "        self.init_weights()\n",
        "\n",
        "    def init_weights(self):\n",
        "        initrange = 0.01\n",
        "        nn.init.uniform_(self.input_emb.weight, -initrange, initrange)\n",
        "        nn.init.zeros_(self.decoder.bias)\n",
        "        nn.init.uniform_(self.decoder.weight, -initrange, initrange)\n",
        "\n",
        "    def generate_longformer_mask(self, max_len = 100, window_size = 3):\n",
        "        # Initialize the global mask\n",
        "        global_mask = torch.zeros([max_len, max_len])\n",
        "        # Count the number of digits left and right\n",
        "        nb_left = nb_right = window_size // 2\n",
        "\n",
        "        total_size = 3 * n_digits + 3\n",
        "        idx_eq = 2 * n_digits + 1\n",
        "        idx_plus = n_digits\n",
        "\n",
        "        # Global attention for '+' and '='\n",
        "        global_mask[idx_plus, :] = 1\n",
        "        global_mask[:, idx_plus] = 1\n",
        "        global_mask[idx_eq, :] = 1\n",
        "        global_mask[:, idx_eq] = 1\n",
        "\n",
        "        # Apply sliding window attention for the first total_size tokens\n",
        "        for i in range(total_size):\n",
        "            left_token_id = max(0, i - nb_left)\n",
        "            right_token_id = min(total_size, i + nb_right)\n",
        "            global_mask[i, left_token_id:right_token_id + 1] = 1\n",
        "\n",
        "            if i < idx_plus:\n",
        "                # For tokens before '+', attend to the corresponding window in the second number as well\n",
        "                global_mask[i, left_token_id + n_digits + 1: right_token_id + n_digits + 2] = 1\n",
        "            elif i > idx_plus and i < idx_eq:\n",
        "                # For tokens between '+' and '=', adjust the window index accordingly\n",
        "                global_mask[i, max(0, left_token_id - n_digits - 1): min(total_size, right_token_id - n_digits)] = 1\n",
        "            elif i > idx_eq :\n",
        "                j = i - (idx_eq + 1)  # j ∈ [0, n_digits+1)\n",
        "                # --- Connexion vers la première opérande ---\n",
        "                # On mappe j proportionnellement dans [0, n_digits-1].\n",
        "                first_index = int(j * n_digits / (n_digits + 1))\n",
        "                start_first = max(0, first_index - nb_left)\n",
        "                end_first = min(n_digits - 1, first_index + nb_right)\n",
        "                global_mask[i, start_first:end_first + 1] = 1\n",
        "\n",
        "                # --- Connexion vers la deuxième opérande ---\n",
        "                # La deuxième opérande se trouve aux indices [n_digits+1, 2*n_digits]\n",
        "                second_index = int(j * n_digits / (n_digits + 1))\n",
        "                start_second = max(idx_plus + 1, (idx_plus + 1) + second_index - nb_left)\n",
        "                end_second = min(idx_eq - 1, (idx_plus + 1) + second_index + nb_right)\n",
        "                global_mask[i, start_second:end_second + 1] = 1\n",
        "\n",
        "                global_mask[i, idx_eq + 1:total_size] = 1\n",
        "\n",
        "        global_mask = global_mask.masked_fill(global_mask == 0, float('-inf'))\n",
        "        global_mask = global_mask.masked_fill(global_mask == 1, 0)\n",
        "\n",
        "        return global_mask\n",
        "\n",
        "\n",
        "    def _generate_square_subsequent_mask(self, sz):\n",
        "        # Initialize the mask\n",
        "        mask = torch.zeros([sz, sz])\n",
        "        mask = torch.log(torch.tril(torch.ones(sz,sz))) + self.global_mask[:sz, :sz]\n",
        "        return mask\n",
        "\n",
        "\n",
        "    def forward(self, src):\n",
        "        mask = self._generate_square_subsequent_mask(len(src)).to(device)\n",
        "        self.src_mask = mask\n",
        "\n",
        "        src = self.input_emb(src) * math.sqrt(self.ninp)\n",
        "        src = self.pos_encoder(src)\n",
        "        output_enc = self.encoder(src, mask=self.src_mask)\n",
        "        output_dec = self.decoder(output_enc)\n",
        "        return F.log_softmax(output_dec, dim=-1), output_enc"
      ]
    },
    {
      "cell_type": "code",
      "execution_count": 30,
      "metadata": {
        "colab": {
          "base_uri": "https://localhost:8080/"
        },
        "id": "GXhhi4Slk9pO",
        "outputId": "b66fbc7e-ccec-4241-8c21-adbc8fd57342"
      },
      "outputs": [
        {
          "output_type": "stream",
          "name": "stderr",
          "text": [
            "/usr/local/lib/python3.11/dist-packages/torch/nn/modules/transformer.py:385: UserWarning: enable_nested_tensor is True, but self.use_nested_tensor is False because encoder_layer.self_attn.batch_first was not True(use batch_first for better inference performance)\n",
            "  warnings.warn(\n"
          ]
        },
        {
          "output_type": "execute_result",
          "data": {
            "text/plain": [
              "TransformerModel(\n",
              "  (encoder): TransformerEncoder(\n",
              "    (layers): ModuleList(\n",
              "      (0-7): 8 x TransformerEncoderLayer(\n",
              "        (self_attn): MultiheadAttention(\n",
              "          (out_proj): NonDynamicallyQuantizableLinear(in_features=128, out_features=128, bias=True)\n",
              "        )\n",
              "        (linear1): Linear(in_features=128, out_features=64, bias=True)\n",
              "        (dropout): Dropout(p=0.1, inplace=False)\n",
              "        (linear2): Linear(in_features=64, out_features=128, bias=True)\n",
              "        (norm1): LayerNorm((128,), eps=1e-05, elementwise_affine=True)\n",
              "        (norm2): LayerNorm((128,), eps=1e-05, elementwise_affine=True)\n",
              "        (dropout1): Dropout(p=0.1, inplace=False)\n",
              "        (dropout2): Dropout(p=0.1, inplace=False)\n",
              "      )\n",
              "    )\n",
              "    (norm): LayerNorm((128,), eps=1e-05, elementwise_affine=True)\n",
              "  )\n",
              "  (decoder): Linear(in_features=128, out_features=14, bias=True)\n",
              "  (input_emb): Embedding(14, 128)\n",
              "  (pos_encoder): PositionalEmbedding(\n",
              "    (dropout): Dropout(p=0.1, inplace=False)\n",
              "  )\n",
              ")"
            ]
          },
          "metadata": {},
          "execution_count": 30
        }
      ],
      "source": [
        "model = TransformerModel(ntoken = tokenizer.ntokens,\n",
        "                         ninp = 128,\n",
        "                         nhead = 16,\n",
        "                         nhid = 64,\n",
        "                         nlayers = 8).to(device)\n",
        "\n",
        "model"
      ]
    },
    {
      "cell_type": "code",
      "execution_count": 31,
      "metadata": {
        "colab": {
          "base_uri": "https://localhost:8080/",
          "height": 456
        },
        "id": "zLBij7Cok9pQ",
        "outputId": "f46c7377-982e-4782-a905-1bc7cd640ac2"
      },
      "outputs": [
        {
          "output_type": "display_data",
          "data": {
            "text/plain": [
              "<Figure size 640x480 with 2 Axes>"
            ],
            "image/png": "[encoded data removed]"
          },
          "metadata": {}
        }
      ],
      "source": [
        "mask = model._generate_square_subsequent_mask(sz = 23)\n",
        "# Visualize the custom mask\n",
        "sns.heatmap(mask)\n",
        "plt.title(f\"Custom Attention Mask for n_digits = {7}\")\n",
        "plt.show()"
      ]
    },
    {
      "cell_type": "code",
      "execution_count": 32,
      "metadata": {
        "id": "usZNjQTYk9pQ"
      },
      "outputs": [],
      "source": [
        "def generate(model, prompts, new_tokens = 8):\n",
        "    input_tensor = prompts # (length_prompts, batch_size)\n",
        "    input_tensor = input_tensor.to(device)\n",
        "    for _ in range(new_tokens):\n",
        "        output, _ = model(input_tensor) # (length_prompts, batch_size, ntokens)\n",
        "        last_output = output[-1,:,:] # (batch_size, ntokens)\n",
        "        token = torch.argmax(last_output, -1).view((1,-1)) # (1, batch_size)\n",
        "        input_tensor = torch.cat((input_tensor, token), 0)\n",
        "    return input_tensor"
      ]
    },
    {
      "cell_type": "code",
      "execution_count": 33,
      "metadata": {
        "colab": {
          "base_uri": "https://localhost:8080/"
        },
        "id": "rGmzwuYKk9pR",
        "outputId": "bc2521dd-3b65-4b07-b912-8a10fc32fb5c"
      },
      "outputs": [
        {
          "output_type": "execute_result",
          "data": {
            "text/plain": [
              "(tensor([[ 1, 10,  2, 11,  2,  2,  2,  2,  2,  2,  2,  2]], device='cuda:0'),\n",
              " '1+2=22222222')"
            ]
          },
          "metadata": {},
          "execution_count": 33
        }
      ],
      "source": [
        "model.eval()\n",
        "\n",
        "prompt = \"1+2=\"\n",
        "prompt_tensor = torch.tensor(tokenizer.encode(prompt)).view((-1,1))\n",
        "output = generate(model, prompt_tensor).view((1,-1))\n",
        "output, tokenizer.decode(output.tolist()[0])"
      ]
    },
    {
      "cell_type": "code",
      "execution_count": 34,
      "metadata": {
        "id": "2N66UHOfk9pR"
      },
      "outputs": [],
      "source": [
        "def pad(token_list, type_list = \"prompts\"):\n",
        "    max_length = max([len(x) for x in token_list])\n",
        "    out = []\n",
        "    for x in token_list:\n",
        "        if type_list == \"prompts\":\n",
        "            out.append([tokenizer.token_to_id[pad_token]] * (max_length - len(x)) + x)\n",
        "        if type_list == \"answers\":\n",
        "            out.append(x + [tokenizer.token_to_id[eos_token]] + [tokenizer.token_to_id[pad_token]] * (max_length - len(x)))\n",
        "    return out, max_length"
      ]
    },
    {
      "cell_type": "code",
      "execution_count": 35,
      "metadata": {
        "colab": {
          "base_uri": "https://localhost:8080/"
        },
        "id": "bNq4qu2yk9pS",
        "outputId": "54a381df-1440-4c04-f52c-3b4fc304ca91"
      },
      "outputs": [
        {
          "output_type": "execute_result",
          "data": {
            "text/plain": [
              "(['[PAD][PAD]1+1=', '21+35='], ['2[EOS][PAD]', '56[EOS]'])"
            ]
          },
          "metadata": {},
          "execution_count": 35
        }
      ],
      "source": [
        "prompts = [tokenizer.encode(\"1+1=\"), tokenizer.encode(\"21+35=\")]\n",
        "answers = [tokenizer.encode(\"2\"), tokenizer.encode(\"56\")]\n",
        "padded_prompts, _ = pad(prompts, \"prompts\")\n",
        "padded_answers, _ = pad(answers, \"answers\")\n",
        "padded_prompts, padded_answers\n",
        "[tokenizer.decode(p) for p in padded_prompts], [tokenizer.decode(p) for p in padded_answers]"
      ]
    },
    {
      "cell_type": "code",
      "execution_count": 36,
      "metadata": {
        "colab": {
          "base_uri": "https://localhost:8080/"
        },
        "id": "PKthuVLJk9pS",
        "outputId": "63c8511f-b9eb-48f2-91de-896ec047981a"
      },
      "outputs": [
        {
          "output_type": "execute_result",
          "data": {
            "text/plain": [
              "(torch.Size([16, 64]), torch.Size([9, 64]), 16, 8)"
            ]
          },
          "metadata": {},
          "execution_count": 36
        }
      ],
      "source": [
        "def get_batch(split, i):\n",
        "    data = data_train if split == 'train' else data_test\n",
        "    prompts = [tokenizer.encode(data[i][0]) for i in range(i, i + batch_size)]\n",
        "    padded_prompts, length_prompts = pad(prompts, \"prompts\")\n",
        "    answers = [tokenizer.encode(data[i][1]) for i in range(i, i + batch_size)]\n",
        "    padded_answers, length_answers = pad(answers, \"answers\")\n",
        "    X = torch.stack([torch.tensor(x) for x in padded_prompts], 1)\n",
        "    Y = torch.stack([torch.tensor(x) for x in padded_answers], 1)\n",
        "    return X, Y, length_prompts, length_answers\n",
        "\n",
        "X, Y, length_prompts, length_answers = get_batch(\"train\", 243)\n",
        "X.shape, Y.shape, length_prompts, length_answers"
      ]
    },
    {
      "cell_type": "code",
      "execution_count": 37,
      "metadata": {
        "id": "EoAVehNWk9pS"
      },
      "outputs": [],
      "source": [
        "def evaluate():\n",
        "    # Turn on evaluation mode disables dropout.\n",
        "    model.eval()\n",
        "    correct = 0.\n",
        "    with torch.no_grad():\n",
        "        for batch, i in enumerate(range(0, len(data_test) - 1, batch_size)):\n",
        "            prompts, target_answers, length_prompts, length_answers = get_batch(\"test\", i)\n",
        "            prompts = prompts.to(device) # (length_prompts, batch_size)\n",
        "            target_answers = target_answers.to(device) # (length_answers + 1, batch_size)\n",
        "            output = generate(model, prompts, length_answers + 1) # (length_prompts + length_answers + 1, batch_size)\n",
        "            answers_tokens = output[length_prompts:, :] # (length_answers + 1, batch_size), contains tokens\n",
        "            equality_test = answers_tokens == target_answers # (length_answers + 1, batch_size), contains boolean values\n",
        "            correct += torch.all(equality_test, axis=0).float().sum()\n",
        "        accuracy = correct / len(data_test)\n",
        "    return accuracy.item()"
      ]
    },
    {
      "cell_type": "code",
      "execution_count": 38,
      "metadata": {
        "colab": {
          "base_uri": "https://localhost:8080/"
        },
        "id": "BemZnz3-k9pT",
        "outputId": "ef557e9a-6127-458d-ce49-fa05c3b42949"
      },
      "outputs": [
        {
          "output_type": "execute_result",
          "data": {
            "text/plain": [
              "0.0"
            ]
          },
          "metadata": {},
          "execution_count": 38
        }
      ],
      "source": [
        "evaluate()"
      ]
    },
    {
      "cell_type": "code",
      "execution_count": 39,
      "metadata": {
        "id": "xqWbHyl4k9pT"
      },
      "outputs": [],
      "source": [
        "ntokens = tokenizer.ntokens"
      ]
    },
    {
      "cell_type": "code",
      "execution_count": 40,
      "metadata": {
        "id": "knI_ygd8k9pT"
      },
      "outputs": [],
      "source": [
        "def train_epoch():\n",
        "    model.train()\n",
        "    optimizer = torch.optim.AdamW(model.parameters(), lr=learning_rate)\n",
        "    total_loss = 0.\n",
        "    start_time = time.time()\n",
        "    for batch, i in enumerate(range(0, len(data_train) - 1, batch_size)):\n",
        "        prompts, target_answers, length_prompts, length_answers = get_batch(\"train\", i)\n",
        "        prompts = prompts.to(device) # (length_prompts, batch_size)\n",
        "        target_answers = target_answers.to(device) # (length_answers, batch_size)\n",
        "        input_tensor = torch.cat((prompts, target_answers), 0) # (length_prompts + length_answers, batch_size)\n",
        "        model.zero_grad()\n",
        "        output, _ = model(input_tensor) # (length_prompts + length_answers, batch_size, ntokens)\n",
        "        output_answers = output[length_prompts-1:-1,:,:].reshape(-1, ntokens) # (length_answers * batch_size, ntokens)\n",
        "        target_answers = target_answers.view(-1)\n",
        "        loss = F.cross_entropy(output_answers, target_answers)\n",
        "        loss.backward()\n",
        "        optimizer.step()\n",
        "\n",
        "        total_loss += loss.item()\n",
        "\n",
        "        if batch % log_interval == 0 and batch > 0:\n",
        "            cur_loss = total_loss / log_interval\n",
        "            elapsed = time.time() - start_time\n",
        "            print('| {:5d}/{:5d} batches | ms/batch {:5.2f} | loss {:5.2f} | perplexity {:8.2f}'.format(batch, len(data_train) // batch_size,\n",
        "                                                                                                        elapsed * 1000 / log_interval, cur_loss, math.exp(cur_loss)))\n",
        "            total_loss = 0\n",
        "            start_time = time.time()\n",
        "\n",
        "def train():\n",
        "    best_test_accuracy = None\n",
        "    test_accuracy = evaluate()\n",
        "    print('-' * 89)\n",
        "    print('| initialisation | test accuracy {:5.2f}'.format(test_accuracy))\n",
        "    print('-' * 89)\n",
        "    for epoch in range(1, epochs+1):\n",
        "        epoch_start_time = time.time()\n",
        "        train_epoch()\n",
        "        test_accuracy = evaluate()\n",
        "        print('-' * 89)\n",
        "        print('| end of epoch {:3d} | time: {:5.2f}s | test accuracy {:5.2f}'.format(epoch, (time.time() - epoch_start_time), test_accuracy))\n",
        "        print('-' * 89)\n",
        "        # Save the model if the test accuracy is the best we've seen so far.\n",
        "        if not best_test_accuracy or test_accuracy < best_test_accuracy:\n",
        "            with open(\"arithmetic.pt\", 'wb') as f:\n",
        "                torch.save(model, f)\n",
        "            best_test_accuracy = test_accuracy"
      ]
    },
    {
      "cell_type": "code",
      "execution_count": 41,
      "metadata": {
        "colab": {
          "base_uri": "https://localhost:8080/"
        },
        "id": "UkL_l8ttk9pT",
        "outputId": "35a0f61f-9e6e-46ab-bd9f-6684b01e546c"
      },
      "outputs": [
        {
          "output_type": "stream",
          "name": "stdout",
          "text": [
            "-----------------------------------------------------------------------------------------\n",
            "| initialisation | test accuracy  0.00\n",
            "-----------------------------------------------------------------------------------------\n",
            "|   200/  900 batches | ms/batch 23.41 | loss  2.03 | perplexity     7.63\n",
            "|   400/  900 batches | ms/batch 20.07 | loss  1.81 | perplexity     6.09\n",
            "|   600/  900 batches | ms/batch 21.82 | loss  1.73 | perplexity     5.67\n",
            "|   800/  900 batches | ms/batch 21.72 | loss  1.67 | perplexity     5.34\n",
            "-----------------------------------------------------------------------------------------\n",
            "| end of epoch   1 | time: 24.20s | test accuracy  0.00\n",
            "-----------------------------------------------------------------------------------------\n",
            "|   200/  900 batches | ms/batch 22.95 | loss  1.65 | perplexity     5.23\n",
            "|   400/  900 batches | ms/batch 20.21 | loss  1.63 | perplexity     5.12\n",
            "|   600/  900 batches | ms/batch 21.91 | loss  1.62 | perplexity     5.07\n",
            "|   800/  900 batches | ms/batch 21.39 | loss  1.61 | perplexity     5.02\n",
            "-----------------------------------------------------------------------------------------\n",
            "| end of epoch   2 | time: 24.13s | test accuracy  0.00\n",
            "-----------------------------------------------------------------------------------------\n",
            "|   200/  900 batches | ms/batch 22.90 | loss  1.62 | perplexity     5.03\n",
            "|   400/  900 batches | ms/batch 19.92 | loss  1.60 | perplexity     4.95\n",
            "|   600/  900 batches | ms/batch 21.34 | loss  1.59 | perplexity     4.90\n",
            "|   800/  900 batches | ms/batch 21.60 | loss  1.57 | perplexity     4.82\n",
            "-----------------------------------------------------------------------------------------\n",
            "| end of epoch   3 | time: 23.85s | test accuracy  0.00\n",
            "-----------------------------------------------------------------------------------------\n",
            "|   200/  900 batches | ms/batch 22.75 | loss  1.42 | perplexity     4.16\n",
            "|   400/  900 batches | ms/batch 19.70 | loss  1.33 | perplexity     3.79\n",
            "|   600/  900 batches | ms/batch 21.22 | loss  1.23 | perplexity     3.41\n",
            "|   800/  900 batches | ms/batch 21.44 | loss  1.16 | perplexity     3.19\n",
            "-----------------------------------------------------------------------------------------\n",
            "| end of epoch   4 | time: 23.74s | test accuracy  0.01\n",
            "-----------------------------------------------------------------------------------------\n",
            "|   200/  900 batches | ms/batch 22.98 | loss  1.08 | perplexity     2.94\n",
            "|   400/  900 batches | ms/batch 19.98 | loss  1.01 | perplexity     2.74\n",
            "|   600/  900 batches | ms/batch 21.50 | loss  0.97 | perplexity     2.65\n",
            "|   800/  900 batches | ms/batch 21.79 | loss  0.95 | perplexity     2.58\n",
            "-----------------------------------------------------------------------------------------\n",
            "| end of epoch   5 | time: 23.87s | test accuracy  0.19\n",
            "-----------------------------------------------------------------------------------------\n",
            "|   200/  900 batches | ms/batch 23.19 | loss  0.89 | perplexity     2.43\n",
            "|   400/  900 batches | ms/batch 19.87 | loss  0.82 | perplexity     2.26\n",
            "|   600/  900 batches | ms/batch 20.75 | loss  0.75 | perplexity     2.11\n",
            "|   800/  900 batches | ms/batch 22.17 | loss  0.68 | perplexity     1.98\n",
            "-----------------------------------------------------------------------------------------\n",
            "| end of epoch   6 | time: 23.86s | test accuracy  0.35\n",
            "-----------------------------------------------------------------------------------------\n",
            "|   200/  900 batches | ms/batch 22.92 | loss  0.61 | perplexity     1.83\n",
            "|   400/  900 batches | ms/batch 19.79 | loss  0.56 | perplexity     1.75\n",
            "|   600/  900 batches | ms/batch 20.53 | loss  0.51 | perplexity     1.67\n",
            "|   800/  900 batches | ms/batch 22.08 | loss  0.48 | perplexity     1.62\n",
            "-----------------------------------------------------------------------------------------\n",
            "| end of epoch   7 | time: 23.62s | test accuracy  0.55\n",
            "-----------------------------------------------------------------------------------------\n",
            "|   200/  900 batches | ms/batch 23.04 | loss  0.44 | perplexity     1.56\n",
            "|   400/  900 batches | ms/batch 20.12 | loss  0.41 | perplexity     1.50\n",
            "|   600/  900 batches | ms/batch 20.10 | loss  0.39 | perplexity     1.47\n",
            "|   800/  900 batches | ms/batch 22.89 | loss  0.36 | perplexity     1.44\n",
            "-----------------------------------------------------------------------------------------\n",
            "| end of epoch   8 | time: 23.77s | test accuracy  0.68\n",
            "-----------------------------------------------------------------------------------------\n",
            "|   200/  900 batches | ms/batch 23.15 | loss  0.34 | perplexity     1.40\n",
            "|   400/  900 batches | ms/batch 19.64 | loss  0.32 | perplexity     1.38\n",
            "|   600/  900 batches | ms/batch 20.18 | loss  0.30 | perplexity     1.35\n",
            "|   800/  900 batches | ms/batch 22.83 | loss  0.28 | perplexity     1.32\n",
            "-----------------------------------------------------------------------------------------\n",
            "| end of epoch   9 | time: 23.78s | test accuracy  0.87\n",
            "-----------------------------------------------------------------------------------------\n",
            "|   200/  900 batches | ms/batch 22.85 | loss  0.27 | perplexity     1.31\n",
            "|   400/  900 batches | ms/batch 19.88 | loss  0.25 | perplexity     1.28\n",
            "|   600/  900 batches | ms/batch 19.92 | loss  0.23 | perplexity     1.26\n",
            "|   800/  900 batches | ms/batch 22.96 | loss  0.22 | perplexity     1.25\n",
            "-----------------------------------------------------------------------------------------\n",
            "| end of epoch  10 | time: 23.76s | test accuracy  0.93\n",
            "-----------------------------------------------------------------------------------------\n",
            "|   200/  900 batches | ms/batch 23.08 | loss  0.21 | perplexity     1.24\n",
            "|   400/  900 batches | ms/batch 20.13 | loss  0.19 | perplexity     1.21\n",
            "|   600/  900 batches | ms/batch 19.99 | loss  0.20 | perplexity     1.22\n",
            "|   800/  900 batches | ms/batch 22.79 | loss  0.18 | perplexity     1.20\n",
            "-----------------------------------------------------------------------------------------\n",
            "| end of epoch  11 | time: 23.77s | test accuracy  0.96\n",
            "-----------------------------------------------------------------------------------------\n",
            "|   200/  900 batches | ms/batch 23.05 | loss  0.18 | perplexity     1.19\n",
            "|   400/  900 batches | ms/batch 19.92 | loss  0.17 | perplexity     1.18\n",
            "|   600/  900 batches | ms/batch 19.92 | loss  0.16 | perplexity     1.18\n",
            "|   800/  900 batches | ms/batch 22.74 | loss  0.15 | perplexity     1.16\n",
            "-----------------------------------------------------------------------------------------\n",
            "| end of epoch  12 | time: 23.69s | test accuracy  0.98\n",
            "-----------------------------------------------------------------------------------------\n",
            "|   200/  900 batches | ms/batch 23.01 | loss  0.14 | perplexity     1.15\n",
            "|   400/  900 batches | ms/batch 19.97 | loss  0.14 | perplexity     1.14\n",
            "|   600/  900 batches | ms/batch 19.82 | loss  0.13 | perplexity     1.14\n",
            "|   800/  900 batches | ms/batch 22.89 | loss  0.15 | perplexity     1.16\n",
            "-----------------------------------------------------------------------------------------\n",
            "| end of epoch  13 | time: 23.81s | test accuracy  0.98\n",
            "-----------------------------------------------------------------------------------------\n",
            "|   200/  900 batches | ms/batch 22.98 | loss  0.13 | perplexity     1.13\n",
            "|   400/  900 batches | ms/batch 19.75 | loss  0.11 | perplexity     1.12\n",
            "|   600/  900 batches | ms/batch 19.55 | loss  0.11 | perplexity     1.12\n",
            "|   800/  900 batches | ms/batch 22.72 | loss  0.12 | perplexity     1.12\n",
            "-----------------------------------------------------------------------------------------\n",
            "| end of epoch  14 | time: 23.61s | test accuracy  0.98\n",
            "-----------------------------------------------------------------------------------------\n",
            "|   200/  900 batches | ms/batch 23.44 | loss  0.11 | perplexity     1.12\n",
            "|   400/  900 batches | ms/batch 19.60 | loss  0.10 | perplexity     1.11\n",
            "|   600/  900 batches | ms/batch 19.76 | loss  0.10 | perplexity     1.10\n",
            "|   800/  900 batches | ms/batch 22.88 | loss  0.11 | perplexity     1.12\n",
            "-----------------------------------------------------------------------------------------\n",
            "| end of epoch  15 | time: 23.81s | test accuracy  0.99\n",
            "-----------------------------------------------------------------------------------------\n",
            "|   200/  900 batches | ms/batch 23.30 | loss  0.09 | perplexity     1.10\n",
            "|   400/  900 batches | ms/batch 19.98 | loss  0.10 | perplexity     1.10\n",
            "|   600/  900 batches | ms/batch 19.91 | loss  0.08 | perplexity     1.09\n",
            "|   800/  900 batches | ms/batch 22.96 | loss  0.08 | perplexity     1.09\n",
            "-----------------------------------------------------------------------------------------\n",
            "| end of epoch  16 | time: 23.80s | test accuracy  0.99\n",
            "-----------------------------------------------------------------------------------------\n",
            "|   200/  900 batches | ms/batch 23.07 | loss  0.09 | perplexity     1.09\n",
            "|   400/  900 batches | ms/batch 19.97 | loss  0.08 | perplexity     1.08\n",
            "|   600/  900 batches | ms/batch 19.86 | loss  0.11 | perplexity     1.12\n",
            "|   800/  900 batches | ms/batch 22.93 | loss  0.07 | perplexity     1.07\n",
            "-----------------------------------------------------------------------------------------\n",
            "| end of epoch  17 | time: 23.72s | test accuracy  1.00\n",
            "-----------------------------------------------------------------------------------------\n",
            "|   200/  900 batches | ms/batch 22.73 | loss  0.07 | perplexity     1.08\n",
            "|   400/  900 batches | ms/batch 20.44 | loss  0.08 | perplexity     1.09\n",
            "|   600/  900 batches | ms/batch 19.92 | loss  0.08 | perplexity     1.08\n",
            "|   800/  900 batches | ms/batch 22.95 | loss  0.08 | perplexity     1.08\n",
            "-----------------------------------------------------------------------------------------\n",
            "| end of epoch  18 | time: 23.86s | test accuracy  0.99\n",
            "-----------------------------------------------------------------------------------------\n",
            "|   200/  900 batches | ms/batch 22.70 | loss  0.07 | perplexity     1.07\n",
            "|   400/  900 batches | ms/batch 20.48 | loss  0.09 | perplexity     1.09\n",
            "|   600/  900 batches | ms/batch 19.78 | loss  0.07 | perplexity     1.08\n",
            "|   800/  900 batches | ms/batch 23.05 | loss  0.06 | perplexity     1.07\n",
            "-----------------------------------------------------------------------------------------\n",
            "| end of epoch  19 | time: 23.89s | test accuracy  1.00\n",
            "-----------------------------------------------------------------------------------------\n",
            "|   200/  900 batches | ms/batch 22.22 | loss  0.07 | perplexity     1.07\n",
            "|   400/  900 batches | ms/batch 20.58 | loss  0.07 | perplexity     1.08\n",
            "|   600/  900 batches | ms/batch 19.80 | loss  0.05 | perplexity     1.05\n",
            "|   800/  900 batches | ms/batch 23.01 | loss  0.07 | perplexity     1.07\n",
            "-----------------------------------------------------------------------------------------\n",
            "| end of epoch  20 | time: 23.85s | test accuracy  1.00\n",
            "-----------------------------------------------------------------------------------------\n"
          ]
        }
      ],
      "source": [
        "train()"
      ]
    },
    {
      "cell_type": "code",
      "source": [
        "torch.save(model.state_dict,\"arithmetic_7_digits.pt\")"
      ],
      "metadata": {
        "id": "_5QPdIEOYQLo"
      },
      "execution_count": 44,
      "outputs": []
    },
    {
      "cell_type": "code",
      "execution_count": 45,
      "metadata": {
        "id": "NM1gkYpvk9pU",
        "colab": {
          "base_uri": "https://localhost:8080/"
        },
        "outputId": "caa6324c-606b-4385-a020-09c0a1a8a33f"
      },
      "outputs": [
        {
          "output_type": "stream",
          "name": "stdout",
          "text": [
            "5297345+0193259=5490604\t actual result: 5490604\n",
            "7327831+5206318=12534149\t actual result: 12534149\n",
            "3170738+1392236=4562974\t actual result: 4562974\n",
            "4275555+1009703=5285258\t actual result: 5285258\n",
            "4137775+1845158=5982933\t actual result: 5982933\n",
            "9081762+9862524=18944286\t actual result: 18944286\n",
            "9446520+5644875=15091395\t actual result: 15091395\n",
            "4233448+2132402=6365850\t actual result: 6365850\n",
            "0145530+8308924=8454454\t actual result: 8454454\n",
            "3681529+4162793=7844322\t actual result: 7844322\n",
            "1735687+9222890=10958577\t actual result: 10958577\n",
            "9338808+3797599=13136407\t actual result: 13136407\n",
            "8316981+6310530=14627511\t actual result: 14627511\n",
            "8145912+6999679=15145591\t actual result: 15145591\n",
            "1362265+8116377=9478642\t actual result: 9478642\n",
            "7427051+6939661=14366712\t actual result: 14366712\n",
            "4017078+2846309=6863387\t actual result: 6863387\n",
            "5150020+1529071=6679091\t actual result: 6679091\n",
            "4852573+6396773=11249346\t actual result: 11249346\n",
            "5616666+5503942=11120608\t actual result: 11120608\n"
          ]
        }
      ],
      "source": [
        "model.eval()\n",
        "\n",
        "for i in range(20):\n",
        "    prompt, answers = data_test[i]\n",
        "    prompt_tensor = torch.tensor(tokenizer.encode(prompt)).view((-1,1))\n",
        "    output = generate(model, prompt_tensor, len(answers)).view((1,-1))\n",
        "    print(tokenizer.decode(output.tolist()[0]) + \"\\t actual result: \" + answers)"
      ]
    }
  ],
  "metadata": {
    "kernelspec": {
      "display_name": "Python 3",
      "name": "python3"
    },
    "language_info": {
      "codemirror_mode": {
        "name": "ipython",
        "version": 3
      },
      "file_extension": ".py",
      "mimetype": "text/x-python",
      "name": "python",
      "nbconvert_exporter": "python",
      "pygments_lexer": "ipython3",
      "version": "3.11.5"
    },
    "colab": {
      "provenance": [],
      "gpuType": "T4"
    },
    "accelerator": "GPU"
  },
  "nbformat": 4,
  "nbformat_minor": 0
}